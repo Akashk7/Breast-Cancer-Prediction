{
 "cells": [
  {
   "cell_type": "markdown",
   "id": "9196eef2",
   "metadata": {},
   "source": [
    "# Case Study: Breast Cancer Prediction\n",
    "To predict the severity of mass lesion using mammography technique"
   ]
  },
  {
   "cell_type": "markdown",
   "id": "15601530",
   "metadata": {},
   "source": [
    "Load the libraries"
   ]
  },
  {
   "cell_type": "code",
   "execution_count": 1,
   "id": "aaf322df",
   "metadata": {},
   "outputs": [],
   "source": [
    "import pandas as pd\n",
    "import numpy as np\n",
    "import seaborn as sns\n",
    "from sklearn.impute import SimpleImputer\n",
    "from sklearn.impute import KNNImputer\n",
    "from sklearn.ensemble import RandomForestRegressor\n",
    "from sklearn.feature_selection import SelectKBest\n",
    "from sklearn.feature_selection import chi2\n",
    "import matplotlib.pyplot as plt\n",
    "from sklearn.model_selection import train_test_split\n",
    "from sklearn.linear_model import LogisticRegression as LR\n",
    "from sklearn.discriminant_analysis import LinearDiscriminantAnalysis as LDA\n",
    "from sklearn.neighbors import KNeighborsClassifier as KNN\n",
    "from sklearn.tree import DecisionTreeClassifier as DT\n",
    "from sklearn.naive_bayes import GaussianNB as GNB\n",
    "from sklearn.svm import SVC\n",
    "from sklearn.ensemble import RandomForestClassifier as RF\n",
    "from sklearn.ensemble import GradientBoostingClassifier as GB\n",
    "from xgboost import XGBClassifier as XGB\n",
    "from sklearn.neural_network import MLPClassifier as ANN\n",
    "from sklearn.metrics import balanced_accuracy_score\n",
    "from sklearn.preprocessing import MinMaxScaler\n",
    "from sklearn.model_selection import GridSearchCV\n",
    "from sklearn.metrics import plot_confusion_matrix\n",
    "from sklearn.metrics import classification_report\n",
    "from sklearn.metrics import roc_curve,roc_auc_score\n",
    "from sklearn.metrics import RocCurveDisplay"
   ]
  },
  {
   "cell_type": "markdown",
   "id": "4defb178",
   "metadata": {},
   "source": [
    "Enter the file paths from local host where train data and test data is saved"
   ]
  },
  {
   "cell_type": "code",
   "execution_count": 2,
   "id": "5c4034ad",
   "metadata": {},
   "outputs": [],
   "source": [
    "#Enter the file paths from local host where train data and test data is saved\n",
    "#filePathTrainData = \"D:/FedEx Problem Statement/ML problem/Train.xlsx\"\n",
    "#filePathTestData = \"D:/FedEx Problem Statement/ML problem/Test.xlsx\"\n",
    "filePathTrainData = \"\"\n",
    "filePathTestData = \"\""
   ]
  },
  {
   "cell_type": "markdown",
   "id": "0c429589",
   "metadata": {},
   "source": [
    "Load the train data"
   ]
  },
  {
   "cell_type": "code",
   "execution_count": 3,
   "id": "48760001",
   "metadata": {},
   "outputs": [
    {
     "data": {
      "text/html": [
       "<div>\n",
       "<style scoped>\n",
       "    .dataframe tbody tr th:only-of-type {\n",
       "        vertical-align: middle;\n",
       "    }\n",
       "\n",
       "    .dataframe tbody tr th {\n",
       "        vertical-align: top;\n",
       "    }\n",
       "\n",
       "    .dataframe thead th {\n",
       "        text-align: right;\n",
       "    }\n",
       "</style>\n",
       "<table border=\"1\" class=\"dataframe\">\n",
       "  <thead>\n",
       "    <tr style=\"text-align: right;\">\n",
       "      <th></th>\n",
       "      <th>Index</th>\n",
       "      <th>BI_RADS</th>\n",
       "      <th>Age</th>\n",
       "      <th>Shape</th>\n",
       "      <th>Margin</th>\n",
       "      <th>Mass_Density</th>\n",
       "      <th>Severity</th>\n",
       "    </tr>\n",
       "  </thead>\n",
       "  <tbody>\n",
       "    <tr>\n",
       "      <th>0</th>\n",
       "      <td>1</td>\n",
       "      <td>5.0</td>\n",
       "      <td>67.0</td>\n",
       "      <td>lobular</td>\n",
       "      <td>spiculated</td>\n",
       "      <td>low</td>\n",
       "      <td>1</td>\n",
       "    </tr>\n",
       "    <tr>\n",
       "      <th>1</th>\n",
       "      <td>2</td>\n",
       "      <td>4.0</td>\n",
       "      <td>43.0</td>\n",
       "      <td>round</td>\n",
       "      <td>circumscribed</td>\n",
       "      <td>NaN</td>\n",
       "      <td>1</td>\n",
       "    </tr>\n",
       "    <tr>\n",
       "      <th>2</th>\n",
       "      <td>3</td>\n",
       "      <td>5.0</td>\n",
       "      <td>58.0</td>\n",
       "      <td>irregular</td>\n",
       "      <td>spiculated</td>\n",
       "      <td>low</td>\n",
       "      <td>1</td>\n",
       "    </tr>\n",
       "    <tr>\n",
       "      <th>3</th>\n",
       "      <td>4</td>\n",
       "      <td>4.0</td>\n",
       "      <td>28.0</td>\n",
       "      <td>round</td>\n",
       "      <td>circumscribed</td>\n",
       "      <td>low</td>\n",
       "      <td>0</td>\n",
       "    </tr>\n",
       "    <tr>\n",
       "      <th>4</th>\n",
       "      <td>5</td>\n",
       "      <td>5.0</td>\n",
       "      <td>74.0</td>\n",
       "      <td>round</td>\n",
       "      <td>spiculated</td>\n",
       "      <td>NaN</td>\n",
       "      <td>1</td>\n",
       "    </tr>\n",
       "  </tbody>\n",
       "</table>\n",
       "</div>"
      ],
      "text/plain": [
       "   Index  BI_RADS   Age      Shape         Margin Mass_Density  Severity\n",
       "0      1      5.0  67.0    lobular     spiculated          low         1\n",
       "1      2      4.0  43.0      round  circumscribed          NaN         1\n",
       "2      3      5.0  58.0  irregular     spiculated          low         1\n",
       "3      4      4.0  28.0      round  circumscribed          low         0\n",
       "4      5      5.0  74.0      round     spiculated          NaN         1"
      ]
     },
     "execution_count": 3,
     "metadata": {},
     "output_type": "execute_result"
    }
   ],
   "source": [
    "#Load the train data\n",
    "trainData = pd.read_excel(filePathTrainData)\n",
    "trainData.head()"
   ]
  },
  {
   "cell_type": "code",
   "execution_count": 4,
   "id": "7f7f7346",
   "metadata": {},
   "outputs": [
    {
     "data": {
      "text/html": [
       "<div>\n",
       "<style scoped>\n",
       "    .dataframe tbody tr th:only-of-type {\n",
       "        vertical-align: middle;\n",
       "    }\n",
       "\n",
       "    .dataframe tbody tr th {\n",
       "        vertical-align: top;\n",
       "    }\n",
       "\n",
       "    .dataframe thead th {\n",
       "        text-align: right;\n",
       "    }\n",
       "</style>\n",
       "<table border=\"1\" class=\"dataframe\">\n",
       "  <thead>\n",
       "    <tr style=\"text-align: right;\">\n",
       "      <th></th>\n",
       "      <th>BI_RADS</th>\n",
       "      <th>Age</th>\n",
       "      <th>Shape</th>\n",
       "      <th>Margin</th>\n",
       "      <th>Mass_Density</th>\n",
       "      <th>Severity</th>\n",
       "    </tr>\n",
       "  </thead>\n",
       "  <tbody>\n",
       "    <tr>\n",
       "      <th>0</th>\n",
       "      <td>5.0</td>\n",
       "      <td>67.0</td>\n",
       "      <td>lobular</td>\n",
       "      <td>spiculated</td>\n",
       "      <td>low</td>\n",
       "      <td>1</td>\n",
       "    </tr>\n",
       "    <tr>\n",
       "      <th>1</th>\n",
       "      <td>4.0</td>\n",
       "      <td>43.0</td>\n",
       "      <td>round</td>\n",
       "      <td>circumscribed</td>\n",
       "      <td>NaN</td>\n",
       "      <td>1</td>\n",
       "    </tr>\n",
       "    <tr>\n",
       "      <th>2</th>\n",
       "      <td>5.0</td>\n",
       "      <td>58.0</td>\n",
       "      <td>irregular</td>\n",
       "      <td>spiculated</td>\n",
       "      <td>low</td>\n",
       "      <td>1</td>\n",
       "    </tr>\n",
       "    <tr>\n",
       "      <th>3</th>\n",
       "      <td>4.0</td>\n",
       "      <td>28.0</td>\n",
       "      <td>round</td>\n",
       "      <td>circumscribed</td>\n",
       "      <td>low</td>\n",
       "      <td>0</td>\n",
       "    </tr>\n",
       "    <tr>\n",
       "      <th>4</th>\n",
       "      <td>5.0</td>\n",
       "      <td>74.0</td>\n",
       "      <td>round</td>\n",
       "      <td>spiculated</td>\n",
       "      <td>NaN</td>\n",
       "      <td>1</td>\n",
       "    </tr>\n",
       "  </tbody>\n",
       "</table>\n",
       "</div>"
      ],
      "text/plain": [
       "   BI_RADS   Age      Shape         Margin Mass_Density  Severity\n",
       "0      5.0  67.0    lobular     spiculated          low         1\n",
       "1      4.0  43.0      round  circumscribed          NaN         1\n",
       "2      5.0  58.0  irregular     spiculated          low         1\n",
       "3      4.0  28.0      round  circumscribed          low         0\n",
       "4      5.0  74.0      round     spiculated          NaN         1"
      ]
     },
     "execution_count": 4,
     "metadata": {},
     "output_type": "execute_result"
    }
   ],
   "source": [
    "#Remove the index variable from train Data\n",
    "trainData = trainData.drop(\"Index\",axis=1)\n",
    "trainData.head()"
   ]
  },
  {
   "cell_type": "code",
   "execution_count": 5,
   "id": "21356445",
   "metadata": {},
   "outputs": [
    {
     "data": {
      "text/plain": [
       "(811, 6)"
      ]
     },
     "execution_count": 5,
     "metadata": {},
     "output_type": "execute_result"
    }
   ],
   "source": [
    "#Check the size of the train data\n",
    "trainData.shape"
   ]
  },
  {
   "cell_type": "markdown",
   "id": "e12082a9",
   "metadata": {},
   "source": [
    "# Data Preprocessing"
   ]
  },
  {
   "cell_type": "markdown",
   "id": "7923b651",
   "metadata": {},
   "source": [
    "Exploratory Data Analysis"
   ]
  },
  {
   "cell_type": "code",
   "execution_count": 6,
   "id": "a946425c",
   "metadata": {},
   "outputs": [
    {
     "data": {
      "text/plain": [
       "<AxesSubplot:xlabel='BI_RADS', ylabel='count'>"
      ]
     },
     "execution_count": 6,
     "metadata": {},
     "output_type": "execute_result"
    },
    {
     "data": {
      "image/png": "[encoded data removed]",
      "text/plain": [
       "<Figure size 432x288 with 1 Axes>"
      ]
     },
     "metadata": {
      "needs_background": "light"
     },
     "output_type": "display_data"
    }
   ],
   "source": [
    "#Distribution of BI_RADS as against the Severity\n",
    "sns.countplot(x=\"BI_RADS\",hue=\"Severity\",data=trainData)\n",
    "#plt.savefig(\"D:/FedEx Problem Statement/Images/BI_RADS.jpg\")"
   ]
  },
  {
   "cell_type": "code",
   "execution_count": 7,
   "id": "26359443",
   "metadata": {},
   "outputs": [
    {
     "data": {
      "text/plain": [
       "<AxesSubplot:xlabel='Shape', ylabel='count'>"
      ]
     },
     "execution_count": 7,
     "metadata": {},
     "output_type": "execute_result"
    },
    {
     "data": {
      "image/png": "[encoded data removed]",
      "text/plain": [
       "<Figure size 432x288 with 1 Axes>"
      ]
     },
     "metadata": {
      "needs_background": "light"
     },
     "output_type": "display_data"
    }
   ],
   "source": [
    "#Distribution of Shape as against the Severity\n",
    "sns.countplot(x=\"Shape\",hue=\"Severity\",data=trainData)\n",
    "#plt.savefig(\"D:/FedEx Problem Statement/Images/Shape.jpg\")"
   ]
  },
  {
   "cell_type": "code",
   "execution_count": 8,
   "id": "4159fee2",
   "metadata": {},
   "outputs": [
    {
     "data": {
      "text/plain": [
       "<AxesSubplot:xlabel='Mass_Density', ylabel='count'>"
      ]
     },
     "execution_count": 8,
     "metadata": {},
     "output_type": "execute_result"
    },
    {
     "data": {
      "image/png": "[encoded data removed]",
      "text/plain": [
       "<Figure size 432x288 with 1 Axes>"
      ]
     },
     "metadata": {
      "needs_background": "light"
     },
     "output_type": "display_data"
    }
   ],
   "source": [
    "#Distribution of Mass_Density as against the Severity\n",
    "sns.countplot(x=\"Mass_Density\",hue=\"Severity\",data=trainData)\n",
    "#plt.savefig(\"D:/FedEx Problem Statement/Images/Mass_Density.jpg\")"
   ]
  },
  {
   "cell_type": "code",
   "execution_count": 9,
   "id": "6398e9f7",
   "metadata": {},
   "outputs": [
    {
     "data": {
      "text/plain": [
       "<AxesSubplot:xlabel='Margin', ylabel='count'>"
      ]
     },
     "execution_count": 9,
     "metadata": {},
     "output_type": "execute_result"
    },
    {
     "data": {
      "image/png": "[encoded data removed]",
      "text/plain": [
       "<Figure size 432x288 with 1 Axes>"
      ]
     },
     "metadata": {
      "needs_background": "light"
     },
     "output_type": "display_data"
    }
   ],
   "source": [
    "#Distribution of Margin as against the Severity\n",
    "sns.countplot(x=\"Margin\",hue=\"Severity\",data=trainData)\n",
    "#plt.savefig(\"D:/FedEx Problem Statement/Images/Margin.jpg\")"
   ]
  },
  {
   "cell_type": "markdown",
   "id": "5339c830",
   "metadata": {},
   "source": [
    "Missing values and outliers treatment"
   ]
  },
  {
   "cell_type": "markdown",
   "id": "e6c0c0ba",
   "metadata": {},
   "source": [
    "Remove the missing values and compute the outliers"
   ]
  },
  {
   "cell_type": "code",
   "execution_count": 10,
   "id": "639782ff",
   "metadata": {},
   "outputs": [
    {
     "data": {
      "text/plain": [
       "BI_RADS          2\n",
       "Age             88\n",
       "Shape           30\n",
       "Margin          47\n",
       "Mass_Density    76\n",
       "Severity         0\n",
       "dtype: int64"
      ]
     },
     "execution_count": 10,
     "metadata": {},
     "output_type": "execute_result"
    }
   ],
   "source": [
    "#Checking the missing values in each column of data set\n",
    "trainData.isna().sum()"
   ]
  },
  {
   "cell_type": "code",
   "execution_count": 11,
   "id": "8f5168ec",
   "metadata": {},
   "outputs": [
    {
     "data": {
      "text/plain": [
       "<AxesSubplot:>"
      ]
     },
     "execution_count": 11,
     "metadata": {},
     "output_type": "execute_result"
    },
    {
     "data": {
      "image/png": "[encoded data removed]",
      "text/plain": [
       "<Figure size 432x288 with 2 Axes>"
      ]
     },
     "metadata": {
      "needs_background": "light"
     },
     "output_type": "display_data"
    }
   ],
   "source": [
    "#Visualizing the missing values using heat map\n",
    "sns.heatmap(trainData.isna())\n",
    "#plt.savefig(\"D:/FedEx Problem Statement/Images/heatmap_missing_values.jpg\")"
   ]
  },
  {
   "cell_type": "code",
   "execution_count": 12,
   "id": "aeff563d",
   "metadata": {},
   "outputs": [],
   "source": [
    "#Removing the missing values\n",
    "trainDataRemoveMissingValues = trainData.dropna()"
   ]
  },
  {
   "cell_type": "code",
   "execution_count": 13,
   "id": "f075aa56",
   "metadata": {},
   "outputs": [
    {
     "data": {
      "text/plain": [
       "BI_RADS         0\n",
       "Age             0\n",
       "Shape           0\n",
       "Margin          0\n",
       "Mass_Density    0\n",
       "Severity        0\n",
       "dtype: int64"
      ]
     },
     "execution_count": 13,
     "metadata": {},
     "output_type": "execute_result"
    }
   ],
   "source": [
    "#Checking the missing values\n",
    "trainDataRemoveMissingValues.isna().sum()"
   ]
  },
  {
   "cell_type": "code",
   "execution_count": 14,
   "id": "54f902ef",
   "metadata": {},
   "outputs": [
    {
     "data": {
      "text/plain": [
       "<AxesSubplot:>"
      ]
     },
     "execution_count": 14,
     "metadata": {},
     "output_type": "execute_result"
    },
    {
     "data": {
      "image/png": "[encoded data removed]",
      "text/plain": [
       "<Figure size 432x288 with 2 Axes>"
      ]
     },
     "metadata": {
      "needs_background": "light"
     },
     "output_type": "display_data"
    }
   ],
   "source": [
    "#Visualizing the missing values\n",
    "sns.heatmap(trainDataRemoveMissingValues.isna())"
   ]
  },
  {
   "cell_type": "code",
   "execution_count": 15,
   "id": "5943c531",
   "metadata": {},
   "outputs": [
    {
     "data": {
      "text/plain": [
       "BI_RADS\n",
       "0.0       2\n",
       "2.0       6\n",
       "3.0      22\n",
       "4.0     321\n",
       "5.0     251\n",
       "6.0       7\n",
       "55.0      1\n",
       "Name: BI_RADS, dtype: int64"
      ]
     },
     "execution_count": 15,
     "metadata": {},
     "output_type": "execute_result"
    },
    {
     "data": {
      "image/png": "[encoded data removed]",
      "text/plain": [
       "<Figure size 432x288 with 1 Axes>"
      ]
     },
     "metadata": {
      "needs_background": "light"
     },
     "output_type": "display_data"
    }
   ],
   "source": [
    "# Checking the outliers in the data    \n",
    "#BI_RADS\n",
    "(trainDataRemoveMissingValues.loc[:,\"BI_RADS\"]).hist()\n",
    "(trainDataRemoveMissingValues.groupby(\"BI_RADS\")[\"BI_RADS\"]).count()\n",
    "#plt.savefig(\"D:/FedEx Problem Statement/Images/BI_RADS_distribution.jpg\")"
   ]
  },
  {
   "cell_type": "code",
   "execution_count": 16,
   "id": "b1208c91",
   "metadata": {},
   "outputs": [
    {
     "name": "stdout",
     "output_type": "stream",
     "text": [
      "25th Quartile: 45.0\n",
      "75th Quartile: 67.0\n",
      "Rows with observations above Upper Bound: (array([ 59,  67,  91, 112, 219, 322, 410, 426, 437], dtype=int64),)\n",
      "Rows withg observations below lower Bound: (array([354, 454, 582, 603, 605], dtype=int64),)\n",
      "Total Outliers: 14\n",
      "Outliers in Age Column:  119    130.0\n",
      "132    130.0\n",
      "169    130.0\n",
      "195    130.0\n",
      "330    130.0\n",
      "466    130.0\n",
      "578    130.0\n",
      "596    130.0\n",
      "609    130.0\n",
      "503      5.0\n",
      "629      5.0\n",
      "780      5.0\n",
      "802      5.0\n",
      "805      5.0\n",
      "Name: Age, dtype: float64\n"
     ]
    },
    {
     "data": {
      "image/png": "[encoded data removed]",
      "text/plain": [
       "<Figure size 432x288 with 1 Axes>"
      ]
     },
     "metadata": {
      "needs_background": "light"
     },
     "output_type": "display_data"
    }
   ],
   "source": [
    "#Age\n",
    "(trainDataRemoveMissingValues.loc[:,\"Age\"]).hist()\n",
    "#plt.savefig(\"D:/FedEx Problem Statement/Images/Age_distribution.jpg\")\n",
    "\n",
    "#Computing the outliers and and count its numbers using IQR method\n",
    "q1 = np.percentile(trainDataRemoveMissingValues['Age'],25)\n",
    "print(\"25th Quartile:\", q1)\n",
    "q3 = np.percentile(trainDataRemoveMissingValues['Age'],75)\n",
    "print(\"75th Quartile:\", q3)\n",
    "IQR = q3 - q1\n",
    "upper = q3 + (1.5*IQR)\n",
    "lower = q1 - (1.5*IQR)\n",
    "upperOutliers = np.where(trainDataRemoveMissingValues.loc[:,\"Age\"]>=upper)\n",
    "print(\"Rows with observations above Upper Bound:\", upperOutliers)\n",
    "lowerOutliers = np.where(trainDataRemoveMissingValues.loc[:,\"Age\"]<=lower)\n",
    "print(\"Rows withg observations below lower Bound:\", lowerOutliers)\n",
    "outliers = np.append(upperOutliers[0],list(lowerOutliers[0])) \n",
    "print(\"Total Outliers:\", len(outliers))\n",
    "print(\"Outliers in Age Column: \", trainDataRemoveMissingValues.iloc[outliers,1])"
   ]
  },
  {
   "cell_type": "code",
   "execution_count": 17,
   "id": "54e7708f",
   "metadata": {},
   "outputs": [
    {
     "data": {
      "text/plain": [
       "Shape\n",
       "irregular    288\n",
       "lobular       55\n",
       "oval         127\n",
       "round        140\n",
       "Name: Shape, dtype: int64"
      ]
     },
     "execution_count": 17,
     "metadata": {},
     "output_type": "execute_result"
    },
    {
     "data": {
      "image/png": "[encoded data removed]",
      "text/plain": [
       "<Figure size 432x288 with 1 Axes>"
      ]
     },
     "metadata": {
      "needs_background": "light"
     },
     "output_type": "display_data"
    }
   ],
   "source": [
    "#Shape\n",
    "(trainDataRemoveMissingValues.loc[:,\"Shape\"]).hist()\n",
    "#Counting the distribution of categories in Shape\n",
    "(trainDataRemoveMissingValues.groupby(\"Shape\")[\"Shape\"]).count()"
   ]
  },
  {
   "cell_type": "code",
   "execution_count": 18,
   "id": "74a20baf",
   "metadata": {},
   "outputs": [
    {
     "data": {
      "text/plain": [
       "Margin\n",
       "circumscribed     229\n",
       "ill-defined       188\n",
       "microlobulated     15\n",
       "obscured           82\n",
       "spiculated         96\n",
       "Name: Margin, dtype: int64"
      ]
     },
     "execution_count": 18,
     "metadata": {},
     "output_type": "execute_result"
    },
    {
     "data": {
      "image/png": "[encoded data removed]",
      "text/plain": [
       "<Figure size 432x288 with 1 Axes>"
      ]
     },
     "metadata": {
      "needs_background": "light"
     },
     "output_type": "display_data"
    }
   ],
   "source": [
    "#Margin\n",
    "(trainDataRemoveMissingValues.loc[:,\"Margin\"]).hist()\n",
    "#Counting the distribution of categories in Margin\n",
    "(trainDataRemoveMissingValues.groupby(\"Margin\")[\"Margin\"]).count()"
   ]
  },
  {
   "cell_type": "code",
   "execution_count": 19,
   "id": "9c942125",
   "metadata": {},
   "outputs": [
    {
     "data": {
      "text/plain": [
       "Mass_Density\n",
       "fat-containing      7\n",
       "high                7\n",
       "iso                41\n",
       "low               555\n",
       "Name: Mass_Density, dtype: int64"
      ]
     },
     "execution_count": 19,
     "metadata": {},
     "output_type": "execute_result"
    },
    {
     "data": {
      "image/png": "[encoded data removed]",
      "text/plain": [
       "<Figure size 432x288 with 1 Axes>"
      ]
     },
     "metadata": {
      "needs_background": "light"
     },
     "output_type": "display_data"
    }
   ],
   "source": [
    "#Mass_Density\n",
    "(trainDataRemoveMissingValues.loc[:,\"Mass_Density\"]).hist()\n",
    "#Counting the distribution of categories in Marss_Density\n",
    "(trainDataRemoveMissingValues.groupby(\"Mass_Density\")[\"Mass_Density\"]).count()"
   ]
  },
  {
   "cell_type": "code",
   "execution_count": 20,
   "id": "17cce04b",
   "metadata": {},
   "outputs": [
    {
     "data": {
      "text/html": [
       "<div>\n",
       "<style scoped>\n",
       "    .dataframe tbody tr th:only-of-type {\n",
       "        vertical-align: middle;\n",
       "    }\n",
       "\n",
       "    .dataframe tbody tr th {\n",
       "        vertical-align: top;\n",
       "    }\n",
       "\n",
       "    .dataframe thead th {\n",
       "        text-align: right;\n",
       "    }\n",
       "</style>\n",
       "<table border=\"1\" class=\"dataframe\">\n",
       "  <thead>\n",
       "    <tr style=\"text-align: right;\">\n",
       "      <th></th>\n",
       "      <th>BI_RADS</th>\n",
       "      <th>Age</th>\n",
       "      <th>Shape</th>\n",
       "      <th>Margin</th>\n",
       "      <th>Mass_Density</th>\n",
       "      <th>Severity</th>\n",
       "    </tr>\n",
       "  </thead>\n",
       "  <tbody>\n",
       "    <tr>\n",
       "      <th>0</th>\n",
       "      <td>5.0</td>\n",
       "      <td>67.0</td>\n",
       "      <td>lobular</td>\n",
       "      <td>spiculated</td>\n",
       "      <td>low</td>\n",
       "      <td>1</td>\n",
       "    </tr>\n",
       "    <tr>\n",
       "      <th>1</th>\n",
       "      <td>4.0</td>\n",
       "      <td>43.0</td>\n",
       "      <td>round</td>\n",
       "      <td>circumscribed</td>\n",
       "      <td>low</td>\n",
       "      <td>1</td>\n",
       "    </tr>\n",
       "    <tr>\n",
       "      <th>2</th>\n",
       "      <td>5.0</td>\n",
       "      <td>58.0</td>\n",
       "      <td>irregular</td>\n",
       "      <td>spiculated</td>\n",
       "      <td>low</td>\n",
       "      <td>1</td>\n",
       "    </tr>\n",
       "    <tr>\n",
       "      <th>3</th>\n",
       "      <td>4.0</td>\n",
       "      <td>28.0</td>\n",
       "      <td>round</td>\n",
       "      <td>circumscribed</td>\n",
       "      <td>low</td>\n",
       "      <td>0</td>\n",
       "    </tr>\n",
       "    <tr>\n",
       "      <th>4</th>\n",
       "      <td>5.0</td>\n",
       "      <td>74.0</td>\n",
       "      <td>round</td>\n",
       "      <td>spiculated</td>\n",
       "      <td>low</td>\n",
       "      <td>1</td>\n",
       "    </tr>\n",
       "  </tbody>\n",
       "</table>\n",
       "</div>"
      ],
      "text/plain": [
       "   BI_RADS   Age      Shape         Margin Mass_Density  Severity\n",
       "0      5.0  67.0    lobular     spiculated          low         1\n",
       "1      4.0  43.0      round  circumscribed          low         1\n",
       "2      5.0  58.0  irregular     spiculated          low         1\n",
       "3      4.0  28.0      round  circumscribed          low         0\n",
       "4      5.0  74.0      round     spiculated          low         1"
      ]
     },
     "execution_count": 20,
     "metadata": {},
     "output_type": "execute_result"
    }
   ],
   "source": [
    "#Replacing the missing values with mean for continuous variable and most frequently occured class for categorical\n",
    "trainDataReplaceMissingValues = trainData\n",
    "imp_categorical = SimpleImputer(strategy=\"most_frequent\")\n",
    "imp_continuous = SimpleImputer(strategy=\"mean\")\n",
    "trainDataReplaceMissingValues.loc[:,\"BI_RADS\"]=imp_categorical.fit_transform(((trainDataReplaceMissingValues.loc[:,\"BI_RADS\"]).values).reshape(-1,1))\n",
    "trainDataReplaceMissingValues.loc[:,\"Age\"]=imp_continuous.fit_transform(((trainDataReplaceMissingValues.loc[:,\"Age\"]).values).reshape(-1,1))\n",
    "trainDataReplaceMissingValues.loc[:,\"Shape\"]=imp_categorical.fit_transform(((trainDataReplaceMissingValues.loc[:,\"Shape\"]).values).reshape(-1,1))\n",
    "trainDataReplaceMissingValues.loc[:,\"Margin\"]=imp_categorical.fit_transform(((trainDataReplaceMissingValues.loc[:,\"Margin\"]).values).reshape(-1,1))\n",
    "trainDataReplaceMissingValues.loc[:,\"Mass_Density\"]=imp_categorical.fit_transform(((trainDataReplaceMissingValues.loc[:,\"Mass_Density\"]).values).reshape(-1,1))\n",
    "trainDataReplaceMissingValues.head()"
   ]
  },
  {
   "cell_type": "code",
   "execution_count": 21,
   "id": "e6f0f0f9",
   "metadata": {},
   "outputs": [
    {
     "data": {
      "text/plain": [
       "<AxesSubplot:>"
      ]
     },
     "execution_count": 21,
     "metadata": {},
     "output_type": "execute_result"
    },
    {
     "data": {
      "image/png": "[encoded data removed]",
      "text/plain": [
       "<Figure size 432x288 with 2 Axes>"
      ]
     },
     "metadata": {
      "needs_background": "light"
     },
     "output_type": "display_data"
    }
   ],
   "source": [
    "#Visualize the data\n",
    "sns.heatmap(trainData.isna())\n",
    "#plt.savefig(\"D:/FedEx Problem Statement/Images/heatmap_after_removing_missing_values.jpg\")"
   ]
  },
  {
   "cell_type": "code",
   "execution_count": 22,
   "id": "8b9341c8",
   "metadata": {},
   "outputs": [
    {
     "data": {
      "text/plain": [
       "BI_RADS\n",
       "0.0       3\n",
       "2.0      13\n",
       "3.0      34\n",
       "4.0     440\n",
       "5.0     312\n",
       "6.0       8\n",
       "55.0      1\n",
       "Name: BI_RADS, dtype: int64"
      ]
     },
     "execution_count": 22,
     "metadata": {},
     "output_type": "execute_result"
    },
    {
     "data": {
      "image/png": "[encoded data removed]",
      "text/plain": [
       "<Figure size 432x288 with 1 Axes>"
      ]
     },
     "metadata": {
      "needs_background": "light"
     },
     "output_type": "display_data"
    }
   ],
   "source": [
    "# Checking the outliers in the data    \n",
    "#BI_RADS\n",
    "(trainDataReplaceMissingValues.loc[:,\"BI_RADS\"]).hist()\n",
    "#plt.savefig(\"D:/FedEx Problem Statement/Images/BI_RADS_distribution_replace_missing_values.jpg\")\n",
    "\n",
    "#Counting the distribution of categories in BI_RADs\n",
    "(trainDataReplaceMissingValues.groupby(\"BI_RADS\")[\"BI_RADS\"]).count()\n"
   ]
  },
  {
   "cell_type": "code",
   "execution_count": 23,
   "id": "0229851b",
   "metadata": {},
   "outputs": [
    {
     "name": "stdout",
     "output_type": "stream",
     "text": [
      "25th Quartile: 45.0\n",
      "75th Quartile: 67.0\n",
      "Rows with observations above Upper Bound: (array([119, 132, 169, 195, 330, 466, 578, 596, 609, 726], dtype=int64),)\n",
      "Rows with observations below lower Bound: (array([460, 503, 629, 780, 802, 805], dtype=int64),)\n",
      "Total Outliers: 16\n",
      "Outliers in Age Column:  119    130.0\n",
      "132    130.0\n",
      "169    130.0\n",
      "195    130.0\n",
      "330    130.0\n",
      "466    130.0\n",
      "578    130.0\n",
      "596    130.0\n",
      "609    130.0\n",
      "726     96.0\n",
      "460      5.0\n",
      "503      5.0\n",
      "629      5.0\n",
      "780      5.0\n",
      "802      5.0\n",
      "805      5.0\n",
      "Name: Age, dtype: float64\n"
     ]
    },
    {
     "data": {
      "image/png": "[encoded data removed]",
      "text/plain": [
       "<Figure size 432x288 with 1 Axes>"
      ]
     },
     "metadata": {
      "needs_background": "light"
     },
     "output_type": "display_data"
    }
   ],
   "source": [
    "#Age\n",
    "(trainDataReplaceMissingValues.loc[:,\"Age\"]).hist()\n",
    "#plt.savefig(\"D:/FedEx Problem Statement/Images/Age_distribution_replace_missing_values.jpg\")\n",
    "\n",
    "#Computing the outliers and and count its numbers using IQR method\n",
    "q11 = np.percentile(trainDataReplaceMissingValues['Age'],25)\n",
    "print(\"25th Quartile:\", q1)\n",
    "q13 = np.percentile(trainDataReplaceMissingValues['Age'],75)\n",
    "print(\"75th Quartile:\", q3)\n",
    "IQR1 = q13 - q11\n",
    "upper1 = q13 + (1.5*IQR1)\n",
    "lower1 = q11 - (1.5*IQR1)\n",
    "upperOutliers1 = np.where(trainDataReplaceMissingValues.loc[:,\"Age\"]>=upper1)\n",
    "print(\"Rows with observations above Upper Bound:\", upperOutliers1)\n",
    "lowerOutliers1 = np.where(trainDataReplaceMissingValues.loc[:,\"Age\"]<=lower1)\n",
    "print(\"Rows with observations below lower Bound:\", lowerOutliers1)\n",
    "outliers1 = np.append(upperOutliers1[0],list(lowerOutliers1[0])) \n",
    "print(\"Total Outliers:\", len(outliers1))\n",
    "print(\"Outliers in Age Column: \", trainDataReplaceMissingValues.iloc[outliers1,1])"
   ]
  },
  {
   "cell_type": "code",
   "execution_count": 24,
   "id": "c82d88d6",
   "metadata": {},
   "outputs": [
    {
     "data": {
      "text/plain": [
       "Shape\n",
       "irregular    370\n",
       "lobular       72\n",
       "oval         177\n",
       "round        192\n",
       "Name: Shape, dtype: int64"
      ]
     },
     "execution_count": 24,
     "metadata": {},
     "output_type": "execute_result"
    },
    {
     "data": {
      "image/png": "[encoded data removed]",
      "text/plain": [
       "<Figure size 432x288 with 1 Axes>"
      ]
     },
     "metadata": {
      "needs_background": "light"
     },
     "output_type": "display_data"
    }
   ],
   "source": [
    "#Shape\n",
    "(trainDataReplaceMissingValues.loc[:,\"Shape\"]).hist()\n",
    "#Counting the distribution of categories in Shape\n",
    "(trainDataReplaceMissingValues.groupby(\"Shape\")[\"Shape\"]).count()"
   ]
  },
  {
   "cell_type": "code",
   "execution_count": 25,
   "id": "5b516eb5",
   "metadata": {},
   "outputs": [
    {
     "data": {
      "text/plain": [
       "Margin\n",
       "circumscribed     345\n",
       "ill-defined       236\n",
       "microlobulated     17\n",
       "obscured           97\n",
       "spiculated        116\n",
       "Name: Margin, dtype: int64"
      ]
     },
     "execution_count": 25,
     "metadata": {},
     "output_type": "execute_result"
    },
    {
     "data": {
      "image/png": "[encoded data removed]",
      "text/plain": [
       "<Figure size 432x288 with 1 Axes>"
      ]
     },
     "metadata": {
      "needs_background": "light"
     },
     "output_type": "display_data"
    }
   ],
   "source": [
    "#Margin\n",
    "(trainDataReplaceMissingValues.loc[:,\"Margin\"]).hist()\n",
    "#Counting the distribution of categories in Margin\n",
    "(trainDataReplaceMissingValues.groupby(\"Margin\")[\"Margin\"]).count()"
   ]
  },
  {
   "cell_type": "code",
   "execution_count": 26,
   "id": "bc04ad95",
   "metadata": {},
   "outputs": [
    {
     "data": {
      "text/plain": [
       "Mass_Density\n",
       "fat-containing     10\n",
       "high               13\n",
       "iso                49\n",
       "low               739\n",
       "Name: Mass_Density, dtype: int64"
      ]
     },
     "execution_count": 26,
     "metadata": {},
     "output_type": "execute_result"
    },
    {
     "data": {
      "image/png": "[encoded data removed]",
      "text/plain": [
       "<Figure size 432x288 with 1 Axes>"
      ]
     },
     "metadata": {
      "needs_background": "light"
     },
     "output_type": "display_data"
    }
   ],
   "source": [
    "#Mass_Density\n",
    "(trainDataReplaceMissingValues.loc[:,\"Mass_Density\"]).hist()\n",
    "#Counting the distribution of categories in Mass_Density\n",
    "(trainDataReplaceMissingValues.groupby(\"Mass_Density\")[\"Mass_Density\"]).count()"
   ]
  },
  {
   "cell_type": "code",
   "execution_count": 27,
   "id": "72b708bc",
   "metadata": {},
   "outputs": [
    {
     "name": "stderr",
     "output_type": "stream",
     "text": [
      "C:\\Users\\3501\\anaconda3\\lib\\site-packages\\pandas\\core\\indexing.py:1720: SettingWithCopyWarning: \n",
      "A value is trying to be set on a copy of a slice from a DataFrame.\n",
      "Try using .loc[row_indexer,col_indexer] = value instead\n",
      "\n",
      "See the caveats in the documentation: https://pandas.pydata.org/pandas-docs/stable/user_guide/indexing.html#returning-a-view-versus-a-copy\n",
      "  self._setitem_single_column(loc, value, pi)\n"
     ]
    },
    {
     "data": {
      "text/plain": [
       "<AxesSubplot:>"
      ]
     },
     "execution_count": 27,
     "metadata": {},
     "output_type": "execute_result"
    },
    {
     "data": {
      "image/png": "[encoded data removed]",
      "text/plain": [
       "<Figure size 432x288 with 1 Axes>"
      ]
     },
     "metadata": {
      "needs_background": "light"
     },
     "output_type": "display_data"
    }
   ],
   "source": [
    "# Define the train data\n",
    "trainData = trainDataRemoveMissingValues\n",
    "\n",
    "#Replace the outliers in \"Age\" using Quantile based flooring and capping\n",
    "twentyfifth_percentile = np.percentile(trainData['Age'], 25)\n",
    "seventyfifth_percentile = np.percentile(trainData['Age'], 75)\n",
    "trainData.iloc[list(lowerOutliers[0]),1] = 0\n",
    "trainData.iloc[list(upperOutliers[0]),1] = 0\n",
    "trainData.iloc[list(lowerOutliers[0]),1] = twentyfifth_percentile\n",
    "trainData.iloc[list(upperOutliers[0]),1] = seventyfifth_percentile\n",
    "\n",
    "#Histogram Plot for Age\n",
    "(trainData['Age']).hist()\n",
    "#plt.savefig(\"D:/FedEx Problem Statement/Images/Age_distribution_replace_outliers.jpg\")"
   ]
  },
  {
   "cell_type": "code",
   "execution_count": 28,
   "id": "48b699c3",
   "metadata": {},
   "outputs": [
    {
     "data": {
      "text/plain": [
       "(610, 6)"
      ]
     },
     "execution_count": 28,
     "metadata": {},
     "output_type": "execute_result"
    }
   ],
   "source": [
    "trainData.shape"
   ]
  },
  {
   "cell_type": "markdown",
   "id": "9d9cbcda",
   "metadata": {},
   "source": [
    "Distribution of classes in trainData"
   ]
  },
  {
   "cell_type": "code",
   "execution_count": 29,
   "id": "f80a9e8b",
   "metadata": {},
   "outputs": [
    {
     "data": {
      "text/plain": [
       "Severity\n",
       "0    308\n",
       "1    302\n",
       "Name: Severity, dtype: int64"
      ]
     },
     "execution_count": 29,
     "metadata": {},
     "output_type": "execute_result"
    },
    {
     "data": {
      "image/png": "[encoded data removed]",
      "text/plain": [
       "<Figure size 432x288 with 1 Axes>"
      ]
     },
     "metadata": {
      "needs_background": "light"
     },
     "output_type": "display_data"
    }
   ],
   "source": [
    "#Distribution of 'Severity' classes in the train data\n",
    "sns.countplot(x=\"Severity\",data=trainData)\n",
    "(trainData.groupby(\"Severity\")[\"Severity\"]).count()"
   ]
  },
  {
   "cell_type": "markdown",
   "id": "46acbf60",
   "metadata": {},
   "source": [
    "Since, the difference between the count of severe class and non severe class is not high, we proceed with current train Data"
   ]
  },
  {
   "cell_type": "markdown",
   "id": "863a3db5",
   "metadata": {},
   "source": [
    "# Feature Selection"
   ]
  },
  {
   "cell_type": "markdown",
   "id": "e2e4fb76",
   "metadata": {},
   "source": [
    "Divide the data into predictors and response variables"
   ]
  },
  {
   "cell_type": "code",
   "execution_count": 30,
   "id": "89f4cb75",
   "metadata": {},
   "outputs": [
    {
     "data": {
      "text/html": [
       "<div>\n",
       "<style scoped>\n",
       "    .dataframe tbody tr th:only-of-type {\n",
       "        vertical-align: middle;\n",
       "    }\n",
       "\n",
       "    .dataframe tbody tr th {\n",
       "        vertical-align: top;\n",
       "    }\n",
       "\n",
       "    .dataframe thead th {\n",
       "        text-align: right;\n",
       "    }\n",
       "</style>\n",
       "<table border=\"1\" class=\"dataframe\">\n",
       "  <thead>\n",
       "    <tr style=\"text-align: right;\">\n",
       "      <th></th>\n",
       "      <th>BI_RADS</th>\n",
       "      <th>Age</th>\n",
       "      <th>Shape</th>\n",
       "      <th>Margin</th>\n",
       "      <th>Mass_Density</th>\n",
       "    </tr>\n",
       "  </thead>\n",
       "  <tbody>\n",
       "    <tr>\n",
       "      <th>0</th>\n",
       "      <td>5.0</td>\n",
       "      <td>67.0</td>\n",
       "      <td>lobular</td>\n",
       "      <td>spiculated</td>\n",
       "      <td>low</td>\n",
       "    </tr>\n",
       "    <tr>\n",
       "      <th>2</th>\n",
       "      <td>5.0</td>\n",
       "      <td>58.0</td>\n",
       "      <td>irregular</td>\n",
       "      <td>spiculated</td>\n",
       "      <td>low</td>\n",
       "    </tr>\n",
       "    <tr>\n",
       "      <th>3</th>\n",
       "      <td>4.0</td>\n",
       "      <td>28.0</td>\n",
       "      <td>round</td>\n",
       "      <td>circumscribed</td>\n",
       "      <td>low</td>\n",
       "    </tr>\n",
       "    <tr>\n",
       "      <th>8</th>\n",
       "      <td>5.0</td>\n",
       "      <td>57.0</td>\n",
       "      <td>round</td>\n",
       "      <td>spiculated</td>\n",
       "      <td>low</td>\n",
       "    </tr>\n",
       "    <tr>\n",
       "      <th>10</th>\n",
       "      <td>5.0</td>\n",
       "      <td>76.0</td>\n",
       "      <td>round</td>\n",
       "      <td>ill-defined</td>\n",
       "      <td>low</td>\n",
       "    </tr>\n",
       "  </tbody>\n",
       "</table>\n",
       "</div>"
      ],
      "text/plain": [
       "    BI_RADS   Age      Shape         Margin Mass_Density\n",
       "0       5.0  67.0    lobular     spiculated          low\n",
       "2       5.0  58.0  irregular     spiculated          low\n",
       "3       4.0  28.0      round  circumscribed          low\n",
       "8       5.0  57.0      round     spiculated          low\n",
       "10      5.0  76.0      round    ill-defined          low"
      ]
     },
     "execution_count": 30,
     "metadata": {},
     "output_type": "execute_result"
    }
   ],
   "source": [
    "#Define Predictors\n",
    "Xtrain = trainData.drop(\"Severity\",axis=1)\n",
    "Xtrain.head()"
   ]
  },
  {
   "cell_type": "code",
   "execution_count": 31,
   "id": "8b9f08cc",
   "metadata": {},
   "outputs": [
    {
     "data": {
      "text/plain": [
       "(610,)"
      ]
     },
     "execution_count": 31,
     "metadata": {},
     "output_type": "execute_result"
    }
   ],
   "source": [
    "#Define the response\n",
    "Ytrain = trainData[\"Severity\"]\n",
    "Ytrain.shape"
   ]
  },
  {
   "cell_type": "markdown",
   "id": "4eaf18e0",
   "metadata": {},
   "source": [
    "Generating dummy variables for categorical variables using one hot encoding"
   ]
  },
  {
   "cell_type": "code",
   "execution_count": 32,
   "id": "cdb8618e",
   "metadata": {},
   "outputs": [
    {
     "data": {
      "text/html": [
       "<div>\n",
       "<style scoped>\n",
       "    .dataframe tbody tr th:only-of-type {\n",
       "        vertical-align: middle;\n",
       "    }\n",
       "\n",
       "    .dataframe tbody tr th {\n",
       "        vertical-align: top;\n",
       "    }\n",
       "\n",
       "    .dataframe thead th {\n",
       "        text-align: right;\n",
       "    }\n",
       "</style>\n",
       "<table border=\"1\" class=\"dataframe\">\n",
       "  <thead>\n",
       "    <tr style=\"text-align: right;\">\n",
       "      <th></th>\n",
       "      <th>BI_RADS_0.0</th>\n",
       "      <th>BI_RADS_2.0</th>\n",
       "      <th>BI_RADS_3.0</th>\n",
       "      <th>BI_RADS_4.0</th>\n",
       "      <th>BI_RADS_5.0</th>\n",
       "      <th>BI_RADS_6.0</th>\n",
       "      <th>BI_RADS_55.0</th>\n",
       "    </tr>\n",
       "  </thead>\n",
       "  <tbody>\n",
       "    <tr>\n",
       "      <th>0</th>\n",
       "      <td>0</td>\n",
       "      <td>0</td>\n",
       "      <td>0</td>\n",
       "      <td>0</td>\n",
       "      <td>1</td>\n",
       "      <td>0</td>\n",
       "      <td>0</td>\n",
       "    </tr>\n",
       "    <tr>\n",
       "      <th>2</th>\n",
       "      <td>0</td>\n",
       "      <td>0</td>\n",
       "      <td>0</td>\n",
       "      <td>0</td>\n",
       "      <td>1</td>\n",
       "      <td>0</td>\n",
       "      <td>0</td>\n",
       "    </tr>\n",
       "    <tr>\n",
       "      <th>3</th>\n",
       "      <td>0</td>\n",
       "      <td>0</td>\n",
       "      <td>0</td>\n",
       "      <td>1</td>\n",
       "      <td>0</td>\n",
       "      <td>0</td>\n",
       "      <td>0</td>\n",
       "    </tr>\n",
       "    <tr>\n",
       "      <th>8</th>\n",
       "      <td>0</td>\n",
       "      <td>0</td>\n",
       "      <td>0</td>\n",
       "      <td>0</td>\n",
       "      <td>1</td>\n",
       "      <td>0</td>\n",
       "      <td>0</td>\n",
       "    </tr>\n",
       "    <tr>\n",
       "      <th>10</th>\n",
       "      <td>0</td>\n",
       "      <td>0</td>\n",
       "      <td>0</td>\n",
       "      <td>0</td>\n",
       "      <td>1</td>\n",
       "      <td>0</td>\n",
       "      <td>0</td>\n",
       "    </tr>\n",
       "  </tbody>\n",
       "</table>\n",
       "</div>"
      ],
      "text/plain": [
       "    BI_RADS_0.0  BI_RADS_2.0  BI_RADS_3.0  BI_RADS_4.0  BI_RADS_5.0  \\\n",
       "0             0            0            0            0            1   \n",
       "2             0            0            0            0            1   \n",
       "3             0            0            0            1            0   \n",
       "8             0            0            0            0            1   \n",
       "10            0            0            0            0            1   \n",
       "\n",
       "    BI_RADS_6.0  BI_RADS_55.0  \n",
       "0             0             0  \n",
       "2             0             0  \n",
       "3             0             0  \n",
       "8             0             0  \n",
       "10            0             0  "
      ]
     },
     "execution_count": 32,
     "metadata": {},
     "output_type": "execute_result"
    }
   ],
   "source": [
    "# Generate dummy variables for BI_RADS\n",
    "birads = pd.get_dummies(Xtrain[\"BI_RADS\"],prefix=\"BI_RADS\")\n",
    "birads.head()"
   ]
  },
  {
   "cell_type": "code",
   "execution_count": 33,
   "id": "a40be603",
   "metadata": {},
   "outputs": [
    {
     "data": {
      "text/html": [
       "<div>\n",
       "<style scoped>\n",
       "    .dataframe tbody tr th:only-of-type {\n",
       "        vertical-align: middle;\n",
       "    }\n",
       "\n",
       "    .dataframe tbody tr th {\n",
       "        vertical-align: top;\n",
       "    }\n",
       "\n",
       "    .dataframe thead th {\n",
       "        text-align: right;\n",
       "    }\n",
       "</style>\n",
       "<table border=\"1\" class=\"dataframe\">\n",
       "  <thead>\n",
       "    <tr style=\"text-align: right;\">\n",
       "      <th></th>\n",
       "      <th>shape_irregular</th>\n",
       "      <th>shape_lobular</th>\n",
       "      <th>shape_oval</th>\n",
       "      <th>shape_round</th>\n",
       "    </tr>\n",
       "  </thead>\n",
       "  <tbody>\n",
       "    <tr>\n",
       "      <th>0</th>\n",
       "      <td>0</td>\n",
       "      <td>1</td>\n",
       "      <td>0</td>\n",
       "      <td>0</td>\n",
       "    </tr>\n",
       "    <tr>\n",
       "      <th>2</th>\n",
       "      <td>1</td>\n",
       "      <td>0</td>\n",
       "      <td>0</td>\n",
       "      <td>0</td>\n",
       "    </tr>\n",
       "    <tr>\n",
       "      <th>3</th>\n",
       "      <td>0</td>\n",
       "      <td>0</td>\n",
       "      <td>0</td>\n",
       "      <td>1</td>\n",
       "    </tr>\n",
       "    <tr>\n",
       "      <th>8</th>\n",
       "      <td>0</td>\n",
       "      <td>0</td>\n",
       "      <td>0</td>\n",
       "      <td>1</td>\n",
       "    </tr>\n",
       "    <tr>\n",
       "      <th>10</th>\n",
       "      <td>0</td>\n",
       "      <td>0</td>\n",
       "      <td>0</td>\n",
       "      <td>1</td>\n",
       "    </tr>\n",
       "  </tbody>\n",
       "</table>\n",
       "</div>"
      ],
      "text/plain": [
       "    shape_irregular  shape_lobular  shape_oval  shape_round\n",
       "0                 0              1           0            0\n",
       "2                 1              0           0            0\n",
       "3                 0              0           0            1\n",
       "8                 0              0           0            1\n",
       "10                0              0           0            1"
      ]
     },
     "execution_count": 33,
     "metadata": {},
     "output_type": "execute_result"
    }
   ],
   "source": [
    "# Generate dummy variables for Shape\n",
    "shape = pd.get_dummies(Xtrain[\"Shape\"],prefix=\"shape\")\n",
    "shape.head()"
   ]
  },
  {
   "cell_type": "code",
   "execution_count": 34,
   "id": "d6efb839",
   "metadata": {},
   "outputs": [
    {
     "data": {
      "text/html": [
       "<div>\n",
       "<style scoped>\n",
       "    .dataframe tbody tr th:only-of-type {\n",
       "        vertical-align: middle;\n",
       "    }\n",
       "\n",
       "    .dataframe tbody tr th {\n",
       "        vertical-align: top;\n",
       "    }\n",
       "\n",
       "    .dataframe thead th {\n",
       "        text-align: right;\n",
       "    }\n",
       "</style>\n",
       "<table border=\"1\" class=\"dataframe\">\n",
       "  <thead>\n",
       "    <tr style=\"text-align: right;\">\n",
       "      <th></th>\n",
       "      <th>margin_circumscribed</th>\n",
       "      <th>margin_ill-defined</th>\n",
       "      <th>margin_microlobulated</th>\n",
       "      <th>margin_obscured</th>\n",
       "      <th>margin_spiculated</th>\n",
       "    </tr>\n",
       "  </thead>\n",
       "  <tbody>\n",
       "    <tr>\n",
       "      <th>0</th>\n",
       "      <td>0</td>\n",
       "      <td>0</td>\n",
       "      <td>0</td>\n",
       "      <td>0</td>\n",
       "      <td>1</td>\n",
       "    </tr>\n",
       "    <tr>\n",
       "      <th>2</th>\n",
       "      <td>0</td>\n",
       "      <td>0</td>\n",
       "      <td>0</td>\n",
       "      <td>0</td>\n",
       "      <td>1</td>\n",
       "    </tr>\n",
       "    <tr>\n",
       "      <th>3</th>\n",
       "      <td>1</td>\n",
       "      <td>0</td>\n",
       "      <td>0</td>\n",
       "      <td>0</td>\n",
       "      <td>0</td>\n",
       "    </tr>\n",
       "    <tr>\n",
       "      <th>8</th>\n",
       "      <td>0</td>\n",
       "      <td>0</td>\n",
       "      <td>0</td>\n",
       "      <td>0</td>\n",
       "      <td>1</td>\n",
       "    </tr>\n",
       "    <tr>\n",
       "      <th>10</th>\n",
       "      <td>0</td>\n",
       "      <td>1</td>\n",
       "      <td>0</td>\n",
       "      <td>0</td>\n",
       "      <td>0</td>\n",
       "    </tr>\n",
       "  </tbody>\n",
       "</table>\n",
       "</div>"
      ],
      "text/plain": [
       "    margin_circumscribed  margin_ill-defined  margin_microlobulated  \\\n",
       "0                      0                   0                      0   \n",
       "2                      0                   0                      0   \n",
       "3                      1                   0                      0   \n",
       "8                      0                   0                      0   \n",
       "10                     0                   1                      0   \n",
       "\n",
       "    margin_obscured  margin_spiculated  \n",
       "0                 0                  1  \n",
       "2                 0                  1  \n",
       "3                 0                  0  \n",
       "8                 0                  1  \n",
       "10                0                  0  "
      ]
     },
     "execution_count": 34,
     "metadata": {},
     "output_type": "execute_result"
    }
   ],
   "source": [
    "# Generate dummy variables for Margin\n",
    "margin = pd.get_dummies(Xtrain[\"Margin\"],prefix=\"margin\")\n",
    "margin.head()"
   ]
  },
  {
   "cell_type": "code",
   "execution_count": 35,
   "id": "06ce35d6",
   "metadata": {},
   "outputs": [
    {
     "data": {
      "text/html": [
       "<div>\n",
       "<style scoped>\n",
       "    .dataframe tbody tr th:only-of-type {\n",
       "        vertical-align: middle;\n",
       "    }\n",
       "\n",
       "    .dataframe tbody tr th {\n",
       "        vertical-align: top;\n",
       "    }\n",
       "\n",
       "    .dataframe thead th {\n",
       "        text-align: right;\n",
       "    }\n",
       "</style>\n",
       "<table border=\"1\" class=\"dataframe\">\n",
       "  <thead>\n",
       "    <tr style=\"text-align: right;\">\n",
       "      <th></th>\n",
       "      <th>mass_density_fat-containing</th>\n",
       "      <th>mass_density_high</th>\n",
       "      <th>mass_density_iso</th>\n",
       "      <th>mass_density_low</th>\n",
       "    </tr>\n",
       "  </thead>\n",
       "  <tbody>\n",
       "    <tr>\n",
       "      <th>0</th>\n",
       "      <td>0</td>\n",
       "      <td>0</td>\n",
       "      <td>0</td>\n",
       "      <td>1</td>\n",
       "    </tr>\n",
       "    <tr>\n",
       "      <th>2</th>\n",
       "      <td>0</td>\n",
       "      <td>0</td>\n",
       "      <td>0</td>\n",
       "      <td>1</td>\n",
       "    </tr>\n",
       "    <tr>\n",
       "      <th>3</th>\n",
       "      <td>0</td>\n",
       "      <td>0</td>\n",
       "      <td>0</td>\n",
       "      <td>1</td>\n",
       "    </tr>\n",
       "    <tr>\n",
       "      <th>8</th>\n",
       "      <td>0</td>\n",
       "      <td>0</td>\n",
       "      <td>0</td>\n",
       "      <td>1</td>\n",
       "    </tr>\n",
       "    <tr>\n",
       "      <th>10</th>\n",
       "      <td>0</td>\n",
       "      <td>0</td>\n",
       "      <td>0</td>\n",
       "      <td>1</td>\n",
       "    </tr>\n",
       "  </tbody>\n",
       "</table>\n",
       "</div>"
      ],
      "text/plain": [
       "    mass_density_fat-containing  mass_density_high  mass_density_iso  \\\n",
       "0                             0                  0                 0   \n",
       "2                             0                  0                 0   \n",
       "3                             0                  0                 0   \n",
       "8                             0                  0                 0   \n",
       "10                            0                  0                 0   \n",
       "\n",
       "    mass_density_low  \n",
       "0                  1  \n",
       "2                  1  \n",
       "3                  1  \n",
       "8                  1  \n",
       "10                 1  "
      ]
     },
     "execution_count": 35,
     "metadata": {},
     "output_type": "execute_result"
    }
   ],
   "source": [
    "# Generate dummy variables for Mass_density\n",
    "mass_density = pd.get_dummies(Xtrain[\"Mass_Density\"],prefix=\"mass_density\")\n",
    "mass_density.head()"
   ]
  },
  {
   "cell_type": "code",
   "execution_count": 36,
   "id": "a06e4328",
   "metadata": {},
   "outputs": [
    {
     "data": {
      "text/html": [
       "<div>\n",
       "<style scoped>\n",
       "    .dataframe tbody tr th:only-of-type {\n",
       "        vertical-align: middle;\n",
       "    }\n",
       "\n",
       "    .dataframe tbody tr th {\n",
       "        vertical-align: top;\n",
       "    }\n",
       "\n",
       "    .dataframe thead th {\n",
       "        text-align: right;\n",
       "    }\n",
       "</style>\n",
       "<table border=\"1\" class=\"dataframe\">\n",
       "  <thead>\n",
       "    <tr style=\"text-align: right;\">\n",
       "      <th></th>\n",
       "      <th>BI_RADS_0.0</th>\n",
       "      <th>BI_RADS_2.0</th>\n",
       "      <th>BI_RADS_3.0</th>\n",
       "      <th>BI_RADS_4.0</th>\n",
       "      <th>BI_RADS_5.0</th>\n",
       "      <th>BI_RADS_6.0</th>\n",
       "      <th>BI_RADS_55.0</th>\n",
       "      <th>Age</th>\n",
       "      <th>shape_irregular</th>\n",
       "      <th>shape_lobular</th>\n",
       "      <th>...</th>\n",
       "      <th>shape_round</th>\n",
       "      <th>margin_circumscribed</th>\n",
       "      <th>margin_ill-defined</th>\n",
       "      <th>margin_microlobulated</th>\n",
       "      <th>margin_obscured</th>\n",
       "      <th>margin_spiculated</th>\n",
       "      <th>mass_density_fat-containing</th>\n",
       "      <th>mass_density_high</th>\n",
       "      <th>mass_density_iso</th>\n",
       "      <th>mass_density_low</th>\n",
       "    </tr>\n",
       "  </thead>\n",
       "  <tbody>\n",
       "    <tr>\n",
       "      <th>0</th>\n",
       "      <td>0</td>\n",
       "      <td>0</td>\n",
       "      <td>0</td>\n",
       "      <td>0</td>\n",
       "      <td>1</td>\n",
       "      <td>0</td>\n",
       "      <td>0</td>\n",
       "      <td>67.0</td>\n",
       "      <td>0</td>\n",
       "      <td>1</td>\n",
       "      <td>...</td>\n",
       "      <td>0</td>\n",
       "      <td>0</td>\n",
       "      <td>0</td>\n",
       "      <td>0</td>\n",
       "      <td>0</td>\n",
       "      <td>1</td>\n",
       "      <td>0</td>\n",
       "      <td>0</td>\n",
       "      <td>0</td>\n",
       "      <td>1</td>\n",
       "    </tr>\n",
       "    <tr>\n",
       "      <th>2</th>\n",
       "      <td>0</td>\n",
       "      <td>0</td>\n",
       "      <td>0</td>\n",
       "      <td>0</td>\n",
       "      <td>1</td>\n",
       "      <td>0</td>\n",
       "      <td>0</td>\n",
       "      <td>58.0</td>\n",
       "      <td>1</td>\n",
       "      <td>0</td>\n",
       "      <td>...</td>\n",
       "      <td>0</td>\n",
       "      <td>0</td>\n",
       "      <td>0</td>\n",
       "      <td>0</td>\n",
       "      <td>0</td>\n",
       "      <td>1</td>\n",
       "      <td>0</td>\n",
       "      <td>0</td>\n",
       "      <td>0</td>\n",
       "      <td>1</td>\n",
       "    </tr>\n",
       "    <tr>\n",
       "      <th>3</th>\n",
       "      <td>0</td>\n",
       "      <td>0</td>\n",
       "      <td>0</td>\n",
       "      <td>1</td>\n",
       "      <td>0</td>\n",
       "      <td>0</td>\n",
       "      <td>0</td>\n",
       "      <td>28.0</td>\n",
       "      <td>0</td>\n",
       "      <td>0</td>\n",
       "      <td>...</td>\n",
       "      <td>1</td>\n",
       "      <td>1</td>\n",
       "      <td>0</td>\n",
       "      <td>0</td>\n",
       "      <td>0</td>\n",
       "      <td>0</td>\n",
       "      <td>0</td>\n",
       "      <td>0</td>\n",
       "      <td>0</td>\n",
       "      <td>1</td>\n",
       "    </tr>\n",
       "    <tr>\n",
       "      <th>8</th>\n",
       "      <td>0</td>\n",
       "      <td>0</td>\n",
       "      <td>0</td>\n",
       "      <td>0</td>\n",
       "      <td>1</td>\n",
       "      <td>0</td>\n",
       "      <td>0</td>\n",
       "      <td>57.0</td>\n",
       "      <td>0</td>\n",
       "      <td>0</td>\n",
       "      <td>...</td>\n",
       "      <td>1</td>\n",
       "      <td>0</td>\n",
       "      <td>0</td>\n",
       "      <td>0</td>\n",
       "      <td>0</td>\n",
       "      <td>1</td>\n",
       "      <td>0</td>\n",
       "      <td>0</td>\n",
       "      <td>0</td>\n",
       "      <td>1</td>\n",
       "    </tr>\n",
       "    <tr>\n",
       "      <th>10</th>\n",
       "      <td>0</td>\n",
       "      <td>0</td>\n",
       "      <td>0</td>\n",
       "      <td>0</td>\n",
       "      <td>1</td>\n",
       "      <td>0</td>\n",
       "      <td>0</td>\n",
       "      <td>76.0</td>\n",
       "      <td>0</td>\n",
       "      <td>0</td>\n",
       "      <td>...</td>\n",
       "      <td>1</td>\n",
       "      <td>0</td>\n",
       "      <td>1</td>\n",
       "      <td>0</td>\n",
       "      <td>0</td>\n",
       "      <td>0</td>\n",
       "      <td>0</td>\n",
       "      <td>0</td>\n",
       "      <td>0</td>\n",
       "      <td>1</td>\n",
       "    </tr>\n",
       "  </tbody>\n",
       "</table>\n",
       "<p>5 rows × 21 columns</p>\n",
       "</div>"
      ],
      "text/plain": [
       "    BI_RADS_0.0  BI_RADS_2.0  BI_RADS_3.0  BI_RADS_4.0  BI_RADS_5.0  \\\n",
       "0             0            0            0            0            1   \n",
       "2             0            0            0            0            1   \n",
       "3             0            0            0            1            0   \n",
       "8             0            0            0            0            1   \n",
       "10            0            0            0            0            1   \n",
       "\n",
       "    BI_RADS_6.0  BI_RADS_55.0   Age  shape_irregular  shape_lobular  ...  \\\n",
       "0             0             0  67.0                0              1  ...   \n",
       "2             0             0  58.0                1              0  ...   \n",
       "3             0             0  28.0                0              0  ...   \n",
       "8             0             0  57.0                0              0  ...   \n",
       "10            0             0  76.0                0              0  ...   \n",
       "\n",
       "    shape_round  margin_circumscribed  margin_ill-defined  \\\n",
       "0             0                     0                   0   \n",
       "2             0                     0                   0   \n",
       "3             1                     1                   0   \n",
       "8             1                     0                   0   \n",
       "10            1                     0                   1   \n",
       "\n",
       "    margin_microlobulated  margin_obscured  margin_spiculated  \\\n",
       "0                       0                0                  1   \n",
       "2                       0                0                  1   \n",
       "3                       0                0                  0   \n",
       "8                       0                0                  1   \n",
       "10                      0                0                  0   \n",
       "\n",
       "    mass_density_fat-containing  mass_density_high  mass_density_iso  \\\n",
       "0                             0                  0                 0   \n",
       "2                             0                  0                 0   \n",
       "3                             0                  0                 0   \n",
       "8                             0                  0                 0   \n",
       "10                            0                  0                 0   \n",
       "\n",
       "    mass_density_low  \n",
       "0                  1  \n",
       "2                  1  \n",
       "3                  1  \n",
       "8                  1  \n",
       "10                 1  \n",
       "\n",
       "[5 rows x 21 columns]"
      ]
     },
     "execution_count": 36,
     "metadata": {},
     "output_type": "execute_result"
    }
   ],
   "source": [
    "# Combine the dummy features, Age, and build the predictors dataframe\n",
    "XtrainCombined = pd.concat([birads,Xtrain[\"Age\"],shape,margin,mass_density],axis=1)\n",
    "XtrainCombined.head()"
   ]
  },
  {
   "cell_type": "markdown",
   "id": "33764f23",
   "metadata": {},
   "source": [
    "Feature Selection: Chisquare Test"
   ]
  },
  {
   "cell_type": "code",
   "execution_count": 37,
   "id": "fa47ae51",
   "metadata": {},
   "outputs": [
    {
     "data": {
      "text/plain": [
       "Text(0.5, 1.0, 'chi squared test base on p value')"
      ]
     },
     "execution_count": 37,
     "metadata": {},
     "output_type": "execute_result"
    },
    {
     "data": {
      "image/png": "[encoded data removed]",
      "text/plain": [
       "<Figure size 432x288 with 1 Axes>"
      ]
     },
     "metadata": {
      "needs_background": "light"
     },
     "output_type": "display_data"
    }
   ],
   "source": [
    "#Perform chi square test for feature selection\n",
    "fScore = chi2(XtrainCombined, Ytrain)\n",
    "pValue=pd.Series(fScore[1],index=XtrainCombined.columns)\n",
    "pValue.plot(kind=\"bar\")\n",
    "plt.xlabel(\"Features\",fontsize=20)\n",
    "plt.ylabel(\"p_values\",fontsize=20)\n",
    "plt.title(\"chi squared test base on p value\")\n",
    "#plt.savefig(\"D:/FedEx Problem Statement/Images/chi_2_test.jpg\")"
   ]
  },
  {
   "cell_type": "code",
   "execution_count": 38,
   "id": "ce2988f2",
   "metadata": {
    "scrolled": true
   },
   "outputs": [
    {
     "data": {
      "text/html": [
       "<div>\n",
       "<style scoped>\n",
       "    .dataframe tbody tr th:only-of-type {\n",
       "        vertical-align: middle;\n",
       "    }\n",
       "\n",
       "    .dataframe tbody tr th {\n",
       "        vertical-align: top;\n",
       "    }\n",
       "\n",
       "    .dataframe thead th {\n",
       "        text-align: right;\n",
       "    }\n",
       "</style>\n",
       "<table border=\"1\" class=\"dataframe\">\n",
       "  <thead>\n",
       "    <tr style=\"text-align: right;\">\n",
       "      <th></th>\n",
       "      <th>BI_RADS_2.0</th>\n",
       "      <th>BI_RADS_3.0</th>\n",
       "      <th>BI_RADS_4.0</th>\n",
       "      <th>BI_RADS_5.0</th>\n",
       "      <th>Age</th>\n",
       "      <th>shape_irregular</th>\n",
       "      <th>shape_oval</th>\n",
       "      <th>shape_round</th>\n",
       "      <th>margin_circumscribed</th>\n",
       "      <th>margin_ill-defined</th>\n",
       "      <th>margin_obscured</th>\n",
       "      <th>margin_spiculated</th>\n",
       "      <th>mass_density_iso</th>\n",
       "    </tr>\n",
       "  </thead>\n",
       "  <tbody>\n",
       "    <tr>\n",
       "      <th>0</th>\n",
       "      <td>0</td>\n",
       "      <td>0</td>\n",
       "      <td>0</td>\n",
       "      <td>1</td>\n",
       "      <td>67.0</td>\n",
       "      <td>0</td>\n",
       "      <td>0</td>\n",
       "      <td>0</td>\n",
       "      <td>0</td>\n",
       "      <td>0</td>\n",
       "      <td>0</td>\n",
       "      <td>1</td>\n",
       "      <td>0</td>\n",
       "    </tr>\n",
       "    <tr>\n",
       "      <th>2</th>\n",
       "      <td>0</td>\n",
       "      <td>0</td>\n",
       "      <td>0</td>\n",
       "      <td>1</td>\n",
       "      <td>58.0</td>\n",
       "      <td>1</td>\n",
       "      <td>0</td>\n",
       "      <td>0</td>\n",
       "      <td>0</td>\n",
       "      <td>0</td>\n",
       "      <td>0</td>\n",
       "      <td>1</td>\n",
       "      <td>0</td>\n",
       "    </tr>\n",
       "    <tr>\n",
       "      <th>3</th>\n",
       "      <td>0</td>\n",
       "      <td>0</td>\n",
       "      <td>1</td>\n",
       "      <td>0</td>\n",
       "      <td>28.0</td>\n",
       "      <td>0</td>\n",
       "      <td>0</td>\n",
       "      <td>1</td>\n",
       "      <td>1</td>\n",
       "      <td>0</td>\n",
       "      <td>0</td>\n",
       "      <td>0</td>\n",
       "      <td>0</td>\n",
       "    </tr>\n",
       "    <tr>\n",
       "      <th>8</th>\n",
       "      <td>0</td>\n",
       "      <td>0</td>\n",
       "      <td>0</td>\n",
       "      <td>1</td>\n",
       "      <td>57.0</td>\n",
       "      <td>0</td>\n",
       "      <td>0</td>\n",
       "      <td>1</td>\n",
       "      <td>0</td>\n",
       "      <td>0</td>\n",
       "      <td>0</td>\n",
       "      <td>1</td>\n",
       "      <td>0</td>\n",
       "    </tr>\n",
       "    <tr>\n",
       "      <th>10</th>\n",
       "      <td>0</td>\n",
       "      <td>0</td>\n",
       "      <td>0</td>\n",
       "      <td>1</td>\n",
       "      <td>76.0</td>\n",
       "      <td>0</td>\n",
       "      <td>0</td>\n",
       "      <td>1</td>\n",
       "      <td>0</td>\n",
       "      <td>1</td>\n",
       "      <td>0</td>\n",
       "      <td>0</td>\n",
       "      <td>0</td>\n",
       "    </tr>\n",
       "  </tbody>\n",
       "</table>\n",
       "</div>"
      ],
      "text/plain": [
       "    BI_RADS_2.0  BI_RADS_3.0  BI_RADS_4.0  BI_RADS_5.0   Age  shape_irregular  \\\n",
       "0             0            0            0            1  67.0                0   \n",
       "2             0            0            0            1  58.0                1   \n",
       "3             0            0            1            0  28.0                0   \n",
       "8             0            0            0            1  57.0                0   \n",
       "10            0            0            0            1  76.0                0   \n",
       "\n",
       "    shape_oval  shape_round  margin_circumscribed  margin_ill-defined  \\\n",
       "0            0            0                     0                   0   \n",
       "2            0            0                     0                   0   \n",
       "3            0            1                     1                   0   \n",
       "8            0            1                     0                   0   \n",
       "10           0            1                     0                   1   \n",
       "\n",
       "    margin_obscured  margin_spiculated  mass_density_iso  \n",
       "0                 0                  1                 0  \n",
       "2                 0                  1                 0  \n",
       "3                 0                  0                 0  \n",
       "8                 0                  1                 0  \n",
       "10                0                  0                 0  "
      ]
     },
     "execution_count": 38,
     "metadata": {},
     "output_type": "execute_result"
    }
   ],
   "source": [
    "#Selecting the best feature based on pvalue<=0.05\n",
    "BestFeatures = (XtrainCombined.columns)[pValue<=0.05]\n",
    "XtrainBest = XtrainCombined[BestFeatures]\n",
    "XtrainBest.head()"
   ]
  },
  {
   "cell_type": "markdown",
   "id": "af134902",
   "metadata": {},
   "source": [
    "# Model Selection"
   ]
  },
  {
   "cell_type": "code",
   "execution_count": 39,
   "id": "1820ba1b",
   "metadata": {},
   "outputs": [
    {
     "data": {
      "text/html": [
       "<div>\n",
       "<style scoped>\n",
       "    .dataframe tbody tr th:only-of-type {\n",
       "        vertical-align: middle;\n",
       "    }\n",
       "\n",
       "    .dataframe tbody tr th {\n",
       "        vertical-align: top;\n",
       "    }\n",
       "\n",
       "    .dataframe thead th {\n",
       "        text-align: right;\n",
       "    }\n",
       "</style>\n",
       "<table border=\"1\" class=\"dataframe\">\n",
       "  <thead>\n",
       "    <tr style=\"text-align: right;\">\n",
       "      <th></th>\n",
       "      <th>0</th>\n",
       "      <th>1</th>\n",
       "      <th>2</th>\n",
       "      <th>3</th>\n",
       "      <th>4</th>\n",
       "      <th>5</th>\n",
       "      <th>6</th>\n",
       "      <th>7</th>\n",
       "      <th>8</th>\n",
       "      <th>9</th>\n",
       "      <th>10</th>\n",
       "      <th>11</th>\n",
       "      <th>12</th>\n",
       "    </tr>\n",
       "  </thead>\n",
       "  <tbody>\n",
       "    <tr>\n",
       "      <th>0</th>\n",
       "      <td>0.0</td>\n",
       "      <td>0.0</td>\n",
       "      <td>0.0</td>\n",
       "      <td>1.0</td>\n",
       "      <td>0.628205</td>\n",
       "      <td>0.0</td>\n",
       "      <td>0.0</td>\n",
       "      <td>0.0</td>\n",
       "      <td>0.0</td>\n",
       "      <td>0.0</td>\n",
       "      <td>0.0</td>\n",
       "      <td>1.0</td>\n",
       "      <td>0.0</td>\n",
       "    </tr>\n",
       "    <tr>\n",
       "      <th>1</th>\n",
       "      <td>0.0</td>\n",
       "      <td>0.0</td>\n",
       "      <td>0.0</td>\n",
       "      <td>1.0</td>\n",
       "      <td>0.512821</td>\n",
       "      <td>1.0</td>\n",
       "      <td>0.0</td>\n",
       "      <td>0.0</td>\n",
       "      <td>0.0</td>\n",
       "      <td>0.0</td>\n",
       "      <td>0.0</td>\n",
       "      <td>1.0</td>\n",
       "      <td>0.0</td>\n",
       "    </tr>\n",
       "    <tr>\n",
       "      <th>2</th>\n",
       "      <td>0.0</td>\n",
       "      <td>0.0</td>\n",
       "      <td>1.0</td>\n",
       "      <td>0.0</td>\n",
       "      <td>0.128205</td>\n",
       "      <td>0.0</td>\n",
       "      <td>0.0</td>\n",
       "      <td>1.0</td>\n",
       "      <td>1.0</td>\n",
       "      <td>0.0</td>\n",
       "      <td>0.0</td>\n",
       "      <td>0.0</td>\n",
       "      <td>0.0</td>\n",
       "    </tr>\n",
       "    <tr>\n",
       "      <th>3</th>\n",
       "      <td>0.0</td>\n",
       "      <td>0.0</td>\n",
       "      <td>0.0</td>\n",
       "      <td>1.0</td>\n",
       "      <td>0.500000</td>\n",
       "      <td>0.0</td>\n",
       "      <td>0.0</td>\n",
       "      <td>1.0</td>\n",
       "      <td>0.0</td>\n",
       "      <td>0.0</td>\n",
       "      <td>0.0</td>\n",
       "      <td>1.0</td>\n",
       "      <td>0.0</td>\n",
       "    </tr>\n",
       "    <tr>\n",
       "      <th>4</th>\n",
       "      <td>0.0</td>\n",
       "      <td>0.0</td>\n",
       "      <td>0.0</td>\n",
       "      <td>1.0</td>\n",
       "      <td>0.743590</td>\n",
       "      <td>0.0</td>\n",
       "      <td>0.0</td>\n",
       "      <td>1.0</td>\n",
       "      <td>0.0</td>\n",
       "      <td>1.0</td>\n",
       "      <td>0.0</td>\n",
       "      <td>0.0</td>\n",
       "      <td>0.0</td>\n",
       "    </tr>\n",
       "  </tbody>\n",
       "</table>\n",
       "</div>"
      ],
      "text/plain": [
       "    0    1    2    3         4    5    6    7    8    9    10   11   12\n",
       "0  0.0  0.0  0.0  1.0  0.628205  0.0  0.0  0.0  0.0  0.0  0.0  1.0  0.0\n",
       "1  0.0  0.0  0.0  1.0  0.512821  1.0  0.0  0.0  0.0  0.0  0.0  1.0  0.0\n",
       "2  0.0  0.0  1.0  0.0  0.128205  0.0  0.0  1.0  1.0  0.0  0.0  0.0  0.0\n",
       "3  0.0  0.0  0.0  1.0  0.500000  0.0  0.0  1.0  0.0  0.0  0.0  1.0  0.0\n",
       "4  0.0  0.0  0.0  1.0  0.743590  0.0  0.0  1.0  0.0  1.0  0.0  0.0  0.0"
      ]
     },
     "execution_count": 39,
     "metadata": {},
     "output_type": "execute_result"
    }
   ],
   "source": [
    "#Scaling the Features:\n",
    "#Normalizing the age values between 0 and 1, since the values of all other columns is in between 0 and 1\n",
    "scaler = MinMaxScaler()\n",
    "XtrainBestFit=scaler.fit(XtrainBest)\n",
    "XtrainBestScaled = scaler.transform(XtrainBest)\n",
    "pd.DataFrame(XtrainBestScaled).head()"
   ]
  },
  {
   "cell_type": "code",
   "execution_count": 40,
   "id": "4ff454fb",
   "metadata": {},
   "outputs": [],
   "source": [
    "# Splitting the dataset into training and validation\n",
    "X_train, X_validate, Y_train, Y_validate = train_test_split(XtrainBestScaled, Ytrain, test_size=0.2,random_state=0, stratify=Ytrain)"
   ]
  },
  {
   "cell_type": "code",
   "execution_count": 41,
   "id": "2ad41ba6",
   "metadata": {},
   "outputs": [
    {
     "name": "stdout",
     "output_type": "stream",
     "text": [
      "Train Accuracy LR:  86.05791843042397 %\n",
      "Validation Accuracy LR:  84.35483870967741 %\n"
     ]
    }
   ],
   "source": [
    "# Logistic Regression: Model Building, Computing balanced accuracy\n",
    "modelLR = LR(random_state=0).fit(X_train, Y_train)\n",
    "Y_train_predictLR = modelLR.predict(X_train)\n",
    "trainAccuracyScoreLR = balanced_accuracy_score(Y_train, Y_train_predictLR)\n",
    "print(\"Train Accuracy LR: \", trainAccuracyScoreLR*100, \"%\")\n",
    "Y_validate_predictLR = modelLR.predict(X_validate)\n",
    "validateAccuracyScoreLR = balanced_accuracy_score(Y_validate, Y_validate_predictLR)\n",
    "print(\"Validation Accuracy LR: \", validateAccuracyScoreLR*100, \"%\")"
   ]
  },
  {
   "cell_type": "code",
   "execution_count": 42,
   "id": "a0944a80",
   "metadata": {},
   "outputs": [
    {
     "name": "stdout",
     "output_type": "stream",
     "text": [
      "Train Accuracy LDA:  85.21131492306658 %\n",
      "Validation Accuracy LDA:  85.94086021505376 %\n"
     ]
    }
   ],
   "source": [
    "# Linear Discriminant Analysis: Model Building, Computing balanced accuracy\n",
    "modelLDA = LDA().fit(X_train, Y_train)\n",
    "Y_train_predictLDA = modelLDA.predict(X_train)\n",
    "trainAccuracyScoreLDA = balanced_accuracy_score(Y_train, Y_train_predictLDA)\n",
    "print(\"Train Accuracy LDA: \", trainAccuracyScoreLDA*100, \"%\")\n",
    "Y_validate_predictLDA = modelLDA.predict(X_validate)\n",
    "validateAccuracyScoreLDA = balanced_accuracy_score(Y_validate, Y_validate_predictLDA)\n",
    "print(\"Validation Accuracy LDA: \", validateAccuracyScoreLDA*100, \"%\")"
   ]
  },
  {
   "cell_type": "code",
   "execution_count": 43,
   "id": "9443b690",
   "metadata": {},
   "outputs": [
    {
     "name": "stdout",
     "output_type": "stream",
     "text": [
      "Train Accuracy KNN:  86.05455889269636 %\n",
      "Validation Accuracy KNN:  79.40860215053763 %\n"
     ]
    }
   ],
   "source": [
    "# K Nearest Neighbours: Model Building, Computing balanced accuracy\n",
    "modelKNN = KNN().fit(X_train, Y_train)\n",
    "Y_train_predictKNN = modelKNN.predict(X_train)\n",
    "trainAccuracyScoreKNN = balanced_accuracy_score(Y_train, Y_train_predictKNN)\n",
    "print(\"Train Accuracy KNN: \", trainAccuracyScoreKNN*100, \"%\")\n",
    "Y_validate_predictKNN = modelKNN.predict(X_validate)\n",
    "validateAccuracyScoreKNN = balanced_accuracy_score(Y_validate, Y_validate_predictKNN)\n",
    "print(\"Validation Accuracy KNN: \", validateAccuracyScoreKNN*100, \"%\")"
   ]
  },
  {
   "cell_type": "code",
   "execution_count": 44,
   "id": "8835f1ff",
   "metadata": {},
   "outputs": [
    {
     "name": "stdout",
     "output_type": "stream",
     "text": [
      "Train Accuracy DT:  93.63199623731775 %\n",
      "Validation Accuracy DT:  74.46236559139786 %\n"
     ]
    }
   ],
   "source": [
    "# Decision Trees: Model Building, Computing balanced accuracy\n",
    "modelDT = DT().fit(X_train, Y_train)\n",
    "Y_train_predictDT = modelDT.predict(X_train)\n",
    "trainAccuracyScoreDT = balanced_accuracy_score(Y_train, Y_train_predictDT)\n",
    "print(\"Train Accuracy DT: \", trainAccuracyScoreDT*100, \"%\")\n",
    "Y_validate_predictDT = modelDT.predict(X_validate)\n",
    "validateAccuracyScoreDT = balanced_accuracy_score(Y_validate, Y_validate_predictDT)\n",
    "print(\"Validation Accuracy DT: \", validateAccuracyScoreDT*100, \"%\")"
   ]
  },
  {
   "cell_type": "code",
   "execution_count": 45,
   "id": "43ed58fb",
   "metadata": {},
   "outputs": [
    {
     "name": "stdout",
     "output_type": "stream",
     "text": [
      "Train Accuracy GNB:  59.13962238795942 %\n",
      "Validation Accuracy GNB:  62.016129032258064 %\n"
     ]
    }
   ],
   "source": [
    "# Gaussian Naive Bayes: Model Building, Computing balanced accuracy\n",
    "modelGNB = GNB().fit(X_train, Y_train)\n",
    "Y_train_predictGNB = modelGNB.predict(X_train)\n",
    "trainAccuracyScoreGNB = balanced_accuracy_score(Y_train, Y_train_predictGNB)\n",
    "print(\"Train Accuracy GNB: \", trainAccuracyScoreGNB*100, \"%\")\n",
    "Y_validate_predictGNB = modelGNB.predict(X_validate)\n",
    "validateAccuracyScoreGNB = balanced_accuracy_score(Y_validate, Y_validate_predictGNB)\n",
    "print(\"Validation Accuracy GNB: \", validateAccuracyScoreGNB*100, \"%\")"
   ]
  },
  {
   "cell_type": "code",
   "execution_count": 46,
   "id": "309e0c11",
   "metadata": {},
   "outputs": [
    {
     "name": "stdout",
     "output_type": "stream",
     "text": [
      "Train Accuracy SVC:  85.19451723442855 %\n",
      "Validation Accuracy SVC:  84.3010752688172 %\n"
     ]
    }
   ],
   "source": [
    "# Support Vector Classifier: Model Building, Computing balanced accuracy\n",
    "modelSVC = SVC().fit(X_train, Y_train)\n",
    "Y_train_predictSVC = modelSVC.predict(X_train)\n",
    "trainAccuracyScoreSVC = balanced_accuracy_score(Y_train, Y_train_predictSVC)\n",
    "print(\"Train Accuracy SVC: \", trainAccuracyScoreSVC*100, \"%\")\n",
    "Y_validate_predictSVC = modelSVC.predict(X_validate)\n",
    "validateAccuracyScoreSVC = balanced_accuracy_score(Y_validate, Y_validate_predictSVC)\n",
    "print(\"Validation Accuracy SVC: \", validateAccuracyScoreSVC*100, \"%\")"
   ]
  },
  {
   "cell_type": "code",
   "execution_count": 47,
   "id": "a45b3e72",
   "metadata": {},
   "outputs": [
    {
     "name": "stdout",
     "output_type": "stream",
     "text": [
      "Train Accuracy RF:  93.64879392595579 %\n",
      "Validation Accuracy RF:  81.10215053763442 %\n"
     ]
    }
   ],
   "source": [
    "# Random Forest: Model Building, Computing balanced accuracy\n",
    "modelRF = RF().fit(X_train, Y_train)\n",
    "Y_train_predictRF = modelRF.predict(X_train)\n",
    "trainAccuracyScoreRF = balanced_accuracy_score(Y_train, Y_train_predictRF)\n",
    "print(\"Train Accuracy RF: \", trainAccuracyScoreRF*100, \"%\")\n",
    "Y_validate_predictRF = modelRF.predict(X_validate)\n",
    "validateAccuracyScoreRF = balanced_accuracy_score(Y_validate, Y_validate_predictRF)\n",
    "print(\"Validation Accuracy RF: \", validateAccuracyScoreRF*100, \"%\")"
   ]
  },
  {
   "cell_type": "code",
   "execution_count": 48,
   "id": "178679dd",
   "metadata": {},
   "outputs": [
    {
     "name": "stdout",
     "output_type": "stream",
     "text": [
      "Train Accuracy GB:  88.73379023046428 %\n",
      "Validation Accuracy GB:  85.99462365591397 %\n"
     ]
    }
   ],
   "source": [
    "# Gradient Boosting: Model Building, Computing balanced accuracy\n",
    "modelGB = GB().fit(X_train, Y_train)\n",
    "Y_train_predictGB = modelGB.predict(X_train)\n",
    "trainAccuracyScoreGB = balanced_accuracy_score(Y_train, Y_train_predictGB)\n",
    "print(\"Train Accuracy GB: \", trainAccuracyScoreGB*100, \"%\")\n",
    "Y_validate_predictGB = modelGB.predict(X_validate)\n",
    "validateAccuracyScoreGB = balanced_accuracy_score(Y_validate, Y_validate_predictGB)\n",
    "print(\"Validation Accuracy GB: \", validateAccuracyScoreGB*100, \"%\")"
   ]
  },
  {
   "cell_type": "code",
   "execution_count": 49,
   "id": "bdaa6948",
   "metadata": {},
   "outputs": [
    {
     "name": "stdout",
     "output_type": "stream",
     "text": [
      "Train Accuracy XGB:  92.01269905261036 %\n",
      "Validation Accuracy XGB:  80.26881720430109 %\n"
     ]
    }
   ],
   "source": [
    "# XGBoost: Model Building, Computing balanced accuracy\n",
    "modelXGB = XGB().fit(X_train, Y_train)\n",
    "Y_train_predictXGB = modelXGB.predict(X_train)\n",
    "trainAccuracyScoreXGB = balanced_accuracy_score(Y_train, Y_train_predictXGB)\n",
    "print(\"Train Accuracy XGB: \", trainAccuracyScoreXGB*100, \"%\")\n",
    "Y_validate_predictXGB = modelXGB.predict(X_validate)\n",
    "validateAccuracyScoreXGB = balanced_accuracy_score(Y_validate, Y_validate_predictXGB)\n",
    "print(\"Validation Accuracy XGB: \", validateAccuracyScoreXGB*100, \"%\")"
   ]
  },
  {
   "cell_type": "code",
   "execution_count": 50,
   "id": "2363df17",
   "metadata": {},
   "outputs": [
    {
     "name": "stdout",
     "output_type": "stream",
     "text": [
      "Train Accuracy ANN:  86.26788953839952 %\n",
      "Validation Accuracy ANN:  86.8010752688172 %\n"
     ]
    },
    {
     "name": "stderr",
     "output_type": "stream",
     "text": [
      "C:\\Users\\3501\\anaconda3\\lib\\site-packages\\sklearn\\neural_network\\_multilayer_perceptron.py:702: ConvergenceWarning: Stochastic Optimizer: Maximum iterations (200) reached and the optimization hasn't converged yet.\n",
      "  warnings.warn(\n"
     ]
    }
   ],
   "source": [
    "# Artificial Neural Networks: Model Building, Computing balanced accuracy\n",
    "modelANN = ANN().fit(X_train, Y_train)\n",
    "Y_train_predictANN = modelANN.predict(X_train)\n",
    "trainAccuracyScoreANN = balanced_accuracy_score(Y_train, Y_train_predictANN)\n",
    "print(\"Train Accuracy ANN: \", trainAccuracyScoreANN*100, \"%\")\n",
    "Y_validate_predictANN = modelANN.predict(X_validate)\n",
    "validateAccuracyScoreANN = balanced_accuracy_score(Y_validate, Y_validate_predictANN)\n",
    "print(\"Validation Accuracy ANN: \", validateAccuracyScoreANN*100, \"%\")"
   ]
  },
  {
   "cell_type": "markdown",
   "id": "bd23c5dd",
   "metadata": {},
   "source": [
    "# Hyper Parameter Tuning"
   ]
  },
  {
   "cell_type": "code",
   "execution_count": 51,
   "id": "d3c40edb",
   "metadata": {},
   "outputs": [
    {
     "data": {
      "text/html": [
       "<style>#sk-container-id-1 {color: black;background-color: white;}#sk-container-id-1 pre{padding: 0;}#sk-container-id-1 div.sk-toggleable {background-color: white;}#sk-container-id-1 label.sk-toggleable__label {cursor: pointer;display: block;width: 100%;margin-bottom: 0;padding: 0.3em;box-sizing: border-box;text-align: center;}#sk-container-id-1 label.sk-toggleable__label-arrow:before {content: \"▸\";float: left;margin-right: 0.25em;color: #696969;}#sk-container-id-1 label.sk-toggleable__label-arrow:hover:before {color: black;}#sk-container-id-1 div.sk-estimator:hover label.sk-toggleable__label-arrow:before {color: black;}#sk-container-id-1 div.sk-toggleable__content {max-height: 0;max-width: 0;overflow: hidden;text-align: left;background-color: #f0f8ff;}#sk-container-id-1 div.sk-toggleable__content pre {margin: 0.2em;color: black;border-radius: 0.25em;background-color: #f0f8ff;}#sk-container-id-1 input.sk-toggleable__control:checked~div.sk-toggleable__content {max-height: 200px;max-width: 100%;overflow: auto;}#sk-container-id-1 input.sk-toggleable__control:checked~label.sk-toggleable__label-arrow:before {content: \"▾\";}#sk-container-id-1 div.sk-estimator input.sk-toggleable__control:checked~label.sk-toggleable__label {background-color: #d4ebff;}#sk-container-id-1 div.sk-label input.sk-toggleable__control:checked~label.sk-toggleable__label {background-color: #d4ebff;}#sk-container-id-1 input.sk-hidden--visually {border: 0;clip: rect(1px 1px 1px 1px);clip: rect(1px, 1px, 1px, 1px);height: 1px;margin: -1px;overflow: hidden;padding: 0;position: absolute;width: 1px;}#sk-container-id-1 div.sk-estimator {font-family: monospace;background-color: #f0f8ff;border: 1px dotted black;border-radius: 0.25em;box-sizing: border-box;margin-bottom: 0.5em;}#sk-container-id-1 div.sk-estimator:hover {background-color: #d4ebff;}#sk-container-id-1 div.sk-parallel-item::after {content: \"\";width: 100%;border-bottom: 1px solid gray;flex-grow: 1;}#sk-container-id-1 div.sk-label:hover label.sk-toggleable__label {background-color: #d4ebff;}#sk-container-id-1 div.sk-serial::before {content: \"\";position: absolute;border-left: 1px solid gray;box-sizing: border-box;top: 0;bottom: 0;left: 50%;z-index: 0;}#sk-container-id-1 div.sk-serial {display: flex;flex-direction: column;align-items: center;background-color: white;padding-right: 0.2em;padding-left: 0.2em;position: relative;}#sk-container-id-1 div.sk-item {position: relative;z-index: 1;}#sk-container-id-1 div.sk-parallel {display: flex;align-items: stretch;justify-content: center;background-color: white;position: relative;}#sk-container-id-1 div.sk-item::before, #sk-container-id-1 div.sk-parallel-item::before {content: \"\";position: absolute;border-left: 1px solid gray;box-sizing: border-box;top: 0;bottom: 0;left: 50%;z-index: -1;}#sk-container-id-1 div.sk-parallel-item {display: flex;flex-direction: column;z-index: 1;position: relative;background-color: white;}#sk-container-id-1 div.sk-parallel-item:first-child::after {align-self: flex-end;width: 50%;}#sk-container-id-1 div.sk-parallel-item:last-child::after {align-self: flex-start;width: 50%;}#sk-container-id-1 div.sk-parallel-item:only-child::after {width: 0;}#sk-container-id-1 div.sk-dashed-wrapped {border: 1px dashed gray;margin: 0 0.4em 0.5em 0.4em;box-sizing: border-box;padding-bottom: 0.4em;background-color: white;}#sk-container-id-1 div.sk-label label {font-family: monospace;font-weight: bold;display: inline-block;line-height: 1.2em;}#sk-container-id-1 div.sk-label-container {text-align: center;}#sk-container-id-1 div.sk-container {/* jupyter's `normalize.less` sets `[hidden] { display: none; }` but bootstrap.min.css set `[hidden] { display: none !important; }` so we also need the `!important` here to be able to override the default hidden behavior on the sphinx rendered scikit-learn.org. See: https://github.com/scikit-learn/scikit-learn/issues/21755 */display: inline-block !important;position: relative;}#sk-container-id-1 div.sk-text-repr-fallback {display: none;}</style><div id=\"sk-container-id-1\" class=\"sk-top-container\"><div class=\"sk-text-repr-fallback\"><pre>GridSearchCV(cv=5, estimator=GradientBoostingClassifier(),\n",
       "             param_grid={&#x27;learning_rate&#x27;: [0.1, 1, 10, 100],\n",
       "                         &#x27;max_depth&#x27;: [3, 5, 7, 9],\n",
       "                         &#x27;n_estimators&#x27;: [100, 150, 200]},\n",
       "             scoring=&#x27;balanced_accuracy&#x27;)</pre><b>In a Jupyter environment, please rerun this cell to show the HTML representation or trust the notebook. <br />On GitHub, the HTML representation is unable to render, please try loading this page with nbviewer.org.</b></div><div class=\"sk-container\" hidden><div class=\"sk-item sk-dashed-wrapped\"><div class=\"sk-label-container\"><div class=\"sk-label sk-toggleable\"><input class=\"sk-toggleable__control sk-hidden--visually\" id=\"sk-estimator-id-1\" type=\"checkbox\" ><label for=\"sk-estimator-id-1\" class=\"sk-toggleable__label sk-toggleable__label-arrow\">GridSearchCV</label><div class=\"sk-toggleable__content\"><pre>GridSearchCV(cv=5, estimator=GradientBoostingClassifier(),\n",
       "             param_grid={&#x27;learning_rate&#x27;: [0.1, 1, 10, 100],\n",
       "                         &#x27;max_depth&#x27;: [3, 5, 7, 9],\n",
       "                         &#x27;n_estimators&#x27;: [100, 150, 200]},\n",
       "             scoring=&#x27;balanced_accuracy&#x27;)</pre></div></div></div><div class=\"sk-parallel\"><div class=\"sk-parallel-item\"><div class=\"sk-item\"><div class=\"sk-label-container\"><div class=\"sk-label sk-toggleable\"><input class=\"sk-toggleable__control sk-hidden--visually\" id=\"sk-estimator-id-2\" type=\"checkbox\" ><label for=\"sk-estimator-id-2\" class=\"sk-toggleable__label sk-toggleable__label-arrow\">estimator: GradientBoostingClassifier</label><div class=\"sk-toggleable__content\"><pre>GradientBoostingClassifier()</pre></div></div></div><div class=\"sk-serial\"><div class=\"sk-item\"><div class=\"sk-estimator sk-toggleable\"><input class=\"sk-toggleable__control sk-hidden--visually\" id=\"sk-estimator-id-3\" type=\"checkbox\" ><label for=\"sk-estimator-id-3\" class=\"sk-toggleable__label sk-toggleable__label-arrow\">GradientBoostingClassifier</label><div class=\"sk-toggleable__content\"><pre>GradientBoostingClassifier()</pre></div></div></div></div></div></div></div></div></div></div>"
      ],
      "text/plain": [
       "GridSearchCV(cv=5, estimator=GradientBoostingClassifier(),\n",
       "             param_grid={'learning_rate': [0.1, 1, 10, 100],\n",
       "                         'max_depth': [3, 5, 7, 9],\n",
       "                         'n_estimators': [100, 150, 200]},\n",
       "             scoring='balanced_accuracy')"
      ]
     },
     "execution_count": 51,
     "metadata": {},
     "output_type": "execute_result"
    }
   ],
   "source": [
    "#Defining the parameters\n",
    "parameters = {\n",
    "    \"n_estimators\":[100,150,200],\n",
    "    \"max_depth\":[3,5,7,9],\n",
    "    \"learning_rate\":[0.1,1,10,100]\n",
    "}\n",
    "\n",
    "#Hyper parameter tuning\n",
    "cv = GridSearchCV(modelGB,parameters,scoring='balanced_accuracy',cv=5)\n",
    "cv.fit(XtrainBestScaled, Ytrain)"
   ]
  },
  {
   "cell_type": "code",
   "execution_count": 52,
   "id": "4cad23f6",
   "metadata": {},
   "outputs": [
    {
     "name": "stdout",
     "output_type": "stream",
     "text": [
      "{'learning_rate': 0.1, 'max_depth': 3, 'n_estimators': 100}\n"
     ]
    }
   ],
   "source": [
    "#Defining the best parameters\n",
    "print(cv.best_params_)\n",
    "optim_learning_rate = cv.best_params_['learning_rate']\n",
    "optim_max_depth = cv.best_params_['max_depth']\n",
    "optim_n_estimators = cv.best_params_['n_estimators']"
   ]
  },
  {
   "cell_type": "markdown",
   "id": "bea777f9",
   "metadata": {},
   "source": [
    "# Model Building"
   ]
  },
  {
   "cell_type": "code",
   "execution_count": 53,
   "id": "284cf1ea",
   "metadata": {},
   "outputs": [
    {
     "name": "stdout",
     "output_type": "stream",
     "text": [
      "Training Accuracy:  88.02356583813537 %\n"
     ]
    }
   ],
   "source": [
    "# Model Building on entire training data\n",
    "modelGBFinal = GB(learning_rate=optim_learning_rate, max_depth=optim_max_depth, n_estimators=optim_n_estimators).fit(XtrainBestScaled, Ytrain)\n",
    "Y_train_predictGBFinal = modelGBFinal.predict(XtrainBestScaled)\n",
    "trainAccuracyScoreGBFinal = balanced_accuracy_score(Ytrain, Y_train_predictGBFinal)\n",
    "print(\"Training Accuracy: \", trainAccuracyScoreGBFinal*100,\"%\")"
   ]
  },
  {
   "cell_type": "markdown",
   "id": "49f8836e",
   "metadata": {},
   "source": [
    "# Model Testing"
   ]
  },
  {
   "cell_type": "code",
   "execution_count": 54,
   "id": "8940e8b5",
   "metadata": {},
   "outputs": [
    {
     "data": {
      "text/html": [
       "<div>\n",
       "<style scoped>\n",
       "    .dataframe tbody tr th:only-of-type {\n",
       "        vertical-align: middle;\n",
       "    }\n",
       "\n",
       "    .dataframe tbody tr th {\n",
       "        vertical-align: top;\n",
       "    }\n",
       "\n",
       "    .dataframe thead th {\n",
       "        text-align: right;\n",
       "    }\n",
       "</style>\n",
       "<table border=\"1\" class=\"dataframe\">\n",
       "  <thead>\n",
       "    <tr style=\"text-align: right;\">\n",
       "      <th></th>\n",
       "      <th>Index</th>\n",
       "      <th>BI_RADS</th>\n",
       "      <th>Age</th>\n",
       "      <th>Shape</th>\n",
       "      <th>Margin</th>\n",
       "      <th>Mass_Density</th>\n",
       "      <th>Severity</th>\n",
       "    </tr>\n",
       "  </thead>\n",
       "  <tbody>\n",
       "    <tr>\n",
       "      <th>0</th>\n",
       "      <td>1</td>\n",
       "      <td>5</td>\n",
       "      <td>65.0</td>\n",
       "      <td>lobular</td>\n",
       "      <td>ill-defined</td>\n",
       "      <td>low</td>\n",
       "      <td>1</td>\n",
       "    </tr>\n",
       "    <tr>\n",
       "      <th>1</th>\n",
       "      <td>2</td>\n",
       "      <td>5</td>\n",
       "      <td>74.0</td>\n",
       "      <td>lobular</td>\n",
       "      <td>microlobulated</td>\n",
       "      <td>low</td>\n",
       "      <td>1</td>\n",
       "    </tr>\n",
       "    <tr>\n",
       "      <th>2</th>\n",
       "      <td>3</td>\n",
       "      <td>4</td>\n",
       "      <td>NaN</td>\n",
       "      <td>oval</td>\n",
       "      <td>circumscribed</td>\n",
       "      <td>low</td>\n",
       "      <td>0</td>\n",
       "    </tr>\n",
       "    <tr>\n",
       "      <th>3</th>\n",
       "      <td>4</td>\n",
       "      <td>4</td>\n",
       "      <td>57.0</td>\n",
       "      <td>irregular</td>\n",
       "      <td>ill-defined</td>\n",
       "      <td>fat-containing</td>\n",
       "      <td>1</td>\n",
       "    </tr>\n",
       "    <tr>\n",
       "      <th>4</th>\n",
       "      <td>5</td>\n",
       "      <td>4</td>\n",
       "      <td>76.0</td>\n",
       "      <td>lobular</td>\n",
       "      <td>microlobulated</td>\n",
       "      <td>low</td>\n",
       "      <td>0</td>\n",
       "    </tr>\n",
       "  </tbody>\n",
       "</table>\n",
       "</div>"
      ],
      "text/plain": [
       "   Index  BI_RADS   Age      Shape          Margin    Mass_Density  Severity\n",
       "0      1        5  65.0    lobular     ill-defined             low         1\n",
       "1      2        5  74.0    lobular  microlobulated             low         1\n",
       "2      3        4   NaN       oval   circumscribed             low         0\n",
       "3      4        4  57.0  irregular     ill-defined  fat-containing         1\n",
       "4      5        4  76.0    lobular  microlobulated             low         0"
      ]
     },
     "execution_count": 54,
     "metadata": {},
     "output_type": "execute_result"
    }
   ],
   "source": [
    "#Load the test data\n",
    "testData = pd.read_excel(filePathTestData)\n",
    "testData.head()"
   ]
  },
  {
   "cell_type": "code",
   "execution_count": 55,
   "id": "562cfc25",
   "metadata": {},
   "outputs": [
    {
     "data": {
      "text/html": [
       "<div>\n",
       "<style scoped>\n",
       "    .dataframe tbody tr th:only-of-type {\n",
       "        vertical-align: middle;\n",
       "    }\n",
       "\n",
       "    .dataframe tbody tr th {\n",
       "        vertical-align: top;\n",
       "    }\n",
       "\n",
       "    .dataframe thead th {\n",
       "        text-align: right;\n",
       "    }\n",
       "</style>\n",
       "<table border=\"1\" class=\"dataframe\">\n",
       "  <thead>\n",
       "    <tr style=\"text-align: right;\">\n",
       "      <th></th>\n",
       "      <th>BI_RADS</th>\n",
       "      <th>Age</th>\n",
       "      <th>Shape</th>\n",
       "      <th>Margin</th>\n",
       "      <th>Mass_Density</th>\n",
       "      <th>Severity</th>\n",
       "    </tr>\n",
       "  </thead>\n",
       "  <tbody>\n",
       "    <tr>\n",
       "      <th>0</th>\n",
       "      <td>5</td>\n",
       "      <td>65.0</td>\n",
       "      <td>lobular</td>\n",
       "      <td>ill-defined</td>\n",
       "      <td>low</td>\n",
       "      <td>1</td>\n",
       "    </tr>\n",
       "    <tr>\n",
       "      <th>1</th>\n",
       "      <td>5</td>\n",
       "      <td>74.0</td>\n",
       "      <td>lobular</td>\n",
       "      <td>microlobulated</td>\n",
       "      <td>low</td>\n",
       "      <td>1</td>\n",
       "    </tr>\n",
       "    <tr>\n",
       "      <th>2</th>\n",
       "      <td>4</td>\n",
       "      <td>NaN</td>\n",
       "      <td>oval</td>\n",
       "      <td>circumscribed</td>\n",
       "      <td>low</td>\n",
       "      <td>0</td>\n",
       "    </tr>\n",
       "    <tr>\n",
       "      <th>3</th>\n",
       "      <td>4</td>\n",
       "      <td>57.0</td>\n",
       "      <td>irregular</td>\n",
       "      <td>ill-defined</td>\n",
       "      <td>fat-containing</td>\n",
       "      <td>1</td>\n",
       "    </tr>\n",
       "    <tr>\n",
       "      <th>4</th>\n",
       "      <td>4</td>\n",
       "      <td>76.0</td>\n",
       "      <td>lobular</td>\n",
       "      <td>microlobulated</td>\n",
       "      <td>low</td>\n",
       "      <td>0</td>\n",
       "    </tr>\n",
       "  </tbody>\n",
       "</table>\n",
       "</div>"
      ],
      "text/plain": [
       "   BI_RADS   Age      Shape          Margin    Mass_Density  Severity\n",
       "0        5  65.0    lobular     ill-defined             low         1\n",
       "1        5  74.0    lobular  microlobulated             low         1\n",
       "2        4   NaN       oval   circumscribed             low         0\n",
       "3        4  57.0  irregular     ill-defined  fat-containing         1\n",
       "4        4  76.0    lobular  microlobulated             low         0"
      ]
     },
     "execution_count": 55,
     "metadata": {},
     "output_type": "execute_result"
    }
   ],
   "source": [
    "#Remove Index variable\n",
    "testData = testData.drop([\"Index\"],axis=1)\n",
    "testData.head()"
   ]
  },
  {
   "cell_type": "code",
   "execution_count": 56,
   "id": "11d684bb",
   "metadata": {},
   "outputs": [
    {
     "data": {
      "text/plain": [
       "<AxesSubplot:>"
      ]
     },
     "execution_count": 56,
     "metadata": {},
     "output_type": "execute_result"
    },
    {
     "data": {
      "image/png": "[encoded data removed]",
      "text/plain": [
       "<Figure size 432x288 with 2 Axes>"
      ]
     },
     "metadata": {
      "needs_background": "light"
     },
     "output_type": "display_data"
    }
   ],
   "source": [
    "#Remove the Missing Values\n",
    "testDataRemoveMissingValues = testData.dropna()\n",
    "\n",
    "#Visualize test data\n",
    "sns.heatmap(testDataRemoveMissingValues.isna())\n"
   ]
  },
  {
   "cell_type": "code",
   "execution_count": 57,
   "id": "bc1c13d1",
   "metadata": {},
   "outputs": [
    {
     "name": "stdout",
     "output_type": "stream",
     "text": [
      "25th Quartile: 45.0\n",
      "75th Quartile: 65.0\n",
      "Rows with observations above Upper Bound: (array([12, 15, 33], dtype=int64),)\n",
      "Rows withg observations below lower Bound: (array([], dtype=int64),)\n",
      "Total Outliers: 3\n",
      "Outliers in Age Column:  16    130.0\n",
      "19    130.0\n",
      "37    130.0\n",
      "Name: Age, dtype: float64\n"
     ]
    },
    {
     "data": {
      "text/plain": [
       "<AxesSubplot:>"
      ]
     },
     "execution_count": 57,
     "metadata": {},
     "output_type": "execute_result"
    },
    {
     "data": {
      "image/png": "[encoded data removed]",
      "text/plain": [
       "<Figure size 432x288 with 1 Axes>"
      ]
     },
     "metadata": {
      "needs_background": "light"
     },
     "output_type": "display_data"
    }
   ],
   "source": [
    "#Redefine Test Data\n",
    "testData = testDataRemoveMissingValues\n",
    "\n",
    "#Detect the outliers in \"Age\" Column using IQR method\n",
    "q1test = np.percentile(testData['Age'],25)\n",
    "print(\"25th Quartile:\", q1test)\n",
    "q3test = np.percentile(testData['Age'],75)\n",
    "print(\"75th Quartile:\", q3test)\n",
    "IQRtest = q3test - q1test\n",
    "uppertest = q3test + (1.5*IQRtest)\n",
    "lowertest = q1test - (1.5*IQRtest)\n",
    "upperOutliersTest = np.where(testData.loc[:,\"Age\"]>=uppertest)\n",
    "print(\"Rows with observations above Upper Bound:\", upperOutliersTest)\n",
    "lowerOutliersTest = np.where(testData.loc[:,\"Age\"]<=lowertest)\n",
    "print(\"Rows withg observations below lower Bound:\", lowerOutliersTest)\n",
    "outliersTest = np.append(upperOutliersTest[0],list(lowerOutliersTest[0])) \n",
    "print(\"Total Outliers:\", len(outliersTest))\n",
    "print(\"Outliers in Age Column: \", testData.iloc[outliersTest,1])\n",
    "\n",
    "#Replace the outliers in \"Age\" using Quantile based flooring and capping\n",
    "twentyfifth_percentileTest = np.percentile(testData['Age'], 25)\n",
    "seventyfifth_percentileTest = np.percentile(testData['Age'], 75)\n",
    "testData.iloc[list(lowerOutliersTest[0]),1] = 0\n",
    "testData.iloc[list(upperOutliersTest[0]),1] = 0\n",
    "testData.iloc[list(lowerOutliersTest[0]),1] = twentyfifth_percentileTest\n",
    "testData.iloc[list(upperOutliersTest[0]),1] = seventyfifth_percentileTest\n",
    "\n",
    "#Age Variable Distribution\n",
    "(testData['Age']).hist()"
   ]
  },
  {
   "cell_type": "markdown",
   "id": "ab9cc6f0",
   "metadata": {},
   "source": [
    "Generating dummy variables for categorical and ordinal variables using one hot encoding"
   ]
  },
  {
   "cell_type": "code",
   "execution_count": 58,
   "id": "a348bde1",
   "metadata": {},
   "outputs": [
    {
     "data": {
      "text/html": [
       "<div>\n",
       "<style scoped>\n",
       "    .dataframe tbody tr th:only-of-type {\n",
       "        vertical-align: middle;\n",
       "    }\n",
       "\n",
       "    .dataframe tbody tr th {\n",
       "        vertical-align: top;\n",
       "    }\n",
       "\n",
       "    .dataframe thead th {\n",
       "        text-align: right;\n",
       "    }\n",
       "</style>\n",
       "<table border=\"1\" class=\"dataframe\">\n",
       "  <thead>\n",
       "    <tr style=\"text-align: right;\">\n",
       "      <th></th>\n",
       "      <th>BI_RADS</th>\n",
       "      <th>Age</th>\n",
       "      <th>Shape</th>\n",
       "      <th>Margin</th>\n",
       "      <th>Mass_Density</th>\n",
       "    </tr>\n",
       "  </thead>\n",
       "  <tbody>\n",
       "    <tr>\n",
       "      <th>0</th>\n",
       "      <td>5</td>\n",
       "      <td>65.0</td>\n",
       "      <td>lobular</td>\n",
       "      <td>ill-defined</td>\n",
       "      <td>low</td>\n",
       "    </tr>\n",
       "    <tr>\n",
       "      <th>1</th>\n",
       "      <td>5</td>\n",
       "      <td>74.0</td>\n",
       "      <td>lobular</td>\n",
       "      <td>microlobulated</td>\n",
       "      <td>low</td>\n",
       "    </tr>\n",
       "    <tr>\n",
       "      <th>3</th>\n",
       "      <td>4</td>\n",
       "      <td>57.0</td>\n",
       "      <td>irregular</td>\n",
       "      <td>ill-defined</td>\n",
       "      <td>fat-containing</td>\n",
       "    </tr>\n",
       "    <tr>\n",
       "      <th>4</th>\n",
       "      <td>4</td>\n",
       "      <td>76.0</td>\n",
       "      <td>lobular</td>\n",
       "      <td>microlobulated</td>\n",
       "      <td>low</td>\n",
       "    </tr>\n",
       "    <tr>\n",
       "      <th>5</th>\n",
       "      <td>4</td>\n",
       "      <td>63.0</td>\n",
       "      <td>round</td>\n",
       "      <td>ill-defined</td>\n",
       "      <td>low</td>\n",
       "    </tr>\n",
       "  </tbody>\n",
       "</table>\n",
       "</div>"
      ],
      "text/plain": [
       "   BI_RADS   Age      Shape          Margin    Mass_Density\n",
       "0        5  65.0    lobular     ill-defined             low\n",
       "1        5  74.0    lobular  microlobulated             low\n",
       "3        4  57.0  irregular     ill-defined  fat-containing\n",
       "4        4  76.0    lobular  microlobulated             low\n",
       "5        4  63.0      round     ill-defined             low"
      ]
     },
     "execution_count": 58,
     "metadata": {},
     "output_type": "execute_result"
    }
   ],
   "source": [
    "#Defining the Features and Response arrays\n",
    "Xtest = testData.drop([\"Severity\"],axis=1)\n",
    "Ytest = testData[\"Severity\"]\n",
    "Xtest.head()"
   ]
  },
  {
   "cell_type": "code",
   "execution_count": 59,
   "id": "d0af1e98",
   "metadata": {},
   "outputs": [
    {
     "data": {
      "text/html": [
       "<div>\n",
       "<style scoped>\n",
       "    .dataframe tbody tr th:only-of-type {\n",
       "        vertical-align: middle;\n",
       "    }\n",
       "\n",
       "    .dataframe tbody tr th {\n",
       "        vertical-align: top;\n",
       "    }\n",
       "\n",
       "    .dataframe thead th {\n",
       "        text-align: right;\n",
       "    }\n",
       "</style>\n",
       "<table border=\"1\" class=\"dataframe\">\n",
       "  <thead>\n",
       "    <tr style=\"text-align: right;\">\n",
       "      <th></th>\n",
       "      <th>BI_RADS_0.0</th>\n",
       "      <th>BI_RADS_2.0</th>\n",
       "      <th>BI_RADS_3.0</th>\n",
       "      <th>BI_RADS_4.0</th>\n",
       "      <th>BI_RADS_5.0</th>\n",
       "      <th>BI_RADS_6.0</th>\n",
       "    </tr>\n",
       "  </thead>\n",
       "  <tbody>\n",
       "    <tr>\n",
       "      <th>0</th>\n",
       "      <td>0</td>\n",
       "      <td>0</td>\n",
       "      <td>0</td>\n",
       "      <td>0</td>\n",
       "      <td>1</td>\n",
       "      <td>0</td>\n",
       "    </tr>\n",
       "    <tr>\n",
       "      <th>1</th>\n",
       "      <td>0</td>\n",
       "      <td>0</td>\n",
       "      <td>0</td>\n",
       "      <td>0</td>\n",
       "      <td>1</td>\n",
       "      <td>0</td>\n",
       "    </tr>\n",
       "    <tr>\n",
       "      <th>3</th>\n",
       "      <td>0</td>\n",
       "      <td>0</td>\n",
       "      <td>0</td>\n",
       "      <td>1</td>\n",
       "      <td>0</td>\n",
       "      <td>0</td>\n",
       "    </tr>\n",
       "    <tr>\n",
       "      <th>4</th>\n",
       "      <td>0</td>\n",
       "      <td>0</td>\n",
       "      <td>0</td>\n",
       "      <td>1</td>\n",
       "      <td>0</td>\n",
       "      <td>0</td>\n",
       "    </tr>\n",
       "    <tr>\n",
       "      <th>5</th>\n",
       "      <td>0</td>\n",
       "      <td>0</td>\n",
       "      <td>0</td>\n",
       "      <td>1</td>\n",
       "      <td>0</td>\n",
       "      <td>0</td>\n",
       "    </tr>\n",
       "  </tbody>\n",
       "</table>\n",
       "</div>"
      ],
      "text/plain": [
       "   BI_RADS_0.0  BI_RADS_2.0  BI_RADS_3.0  BI_RADS_4.0  BI_RADS_5.0  \\\n",
       "0            0            0            0            0            1   \n",
       "1            0            0            0            0            1   \n",
       "3            0            0            0            1            0   \n",
       "4            0            0            0            1            0   \n",
       "5            0            0            0            1            0   \n",
       "\n",
       "   BI_RADS_6.0  \n",
       "0            0  \n",
       "1            0  \n",
       "3            0  \n",
       "4            0  \n",
       "5            0  "
      ]
     },
     "execution_count": 59,
     "metadata": {},
     "output_type": "execute_result"
    }
   ],
   "source": [
    "# Generate dummy variables for BI_RADS\n",
    "Xtest[\"BI_RADS\"] = (Xtest[\"BI_RADS\"]).astype('float')\n",
    "biradsTest = pd.get_dummies(Xtest[\"BI_RADS\"],prefix=\"BI_RADS\")\n",
    "biradsTest.head()"
   ]
  },
  {
   "cell_type": "code",
   "execution_count": 60,
   "id": "ccf03a6b",
   "metadata": {},
   "outputs": [
    {
     "data": {
      "text/html": [
       "<div>\n",
       "<style scoped>\n",
       "    .dataframe tbody tr th:only-of-type {\n",
       "        vertical-align: middle;\n",
       "    }\n",
       "\n",
       "    .dataframe tbody tr th {\n",
       "        vertical-align: top;\n",
       "    }\n",
       "\n",
       "    .dataframe thead th {\n",
       "        text-align: right;\n",
       "    }\n",
       "</style>\n",
       "<table border=\"1\" class=\"dataframe\">\n",
       "  <thead>\n",
       "    <tr style=\"text-align: right;\">\n",
       "      <th></th>\n",
       "      <th>shape_irregular</th>\n",
       "      <th>shape_lobular</th>\n",
       "      <th>shape_oval</th>\n",
       "      <th>shape_round</th>\n",
       "    </tr>\n",
       "  </thead>\n",
       "  <tbody>\n",
       "    <tr>\n",
       "      <th>0</th>\n",
       "      <td>0</td>\n",
       "      <td>1</td>\n",
       "      <td>0</td>\n",
       "      <td>0</td>\n",
       "    </tr>\n",
       "    <tr>\n",
       "      <th>1</th>\n",
       "      <td>0</td>\n",
       "      <td>1</td>\n",
       "      <td>0</td>\n",
       "      <td>0</td>\n",
       "    </tr>\n",
       "    <tr>\n",
       "      <th>3</th>\n",
       "      <td>1</td>\n",
       "      <td>0</td>\n",
       "      <td>0</td>\n",
       "      <td>0</td>\n",
       "    </tr>\n",
       "    <tr>\n",
       "      <th>4</th>\n",
       "      <td>0</td>\n",
       "      <td>1</td>\n",
       "      <td>0</td>\n",
       "      <td>0</td>\n",
       "    </tr>\n",
       "    <tr>\n",
       "      <th>5</th>\n",
       "      <td>0</td>\n",
       "      <td>0</td>\n",
       "      <td>0</td>\n",
       "      <td>1</td>\n",
       "    </tr>\n",
       "  </tbody>\n",
       "</table>\n",
       "</div>"
      ],
      "text/plain": [
       "   shape_irregular  shape_lobular  shape_oval  shape_round\n",
       "0                0              1           0            0\n",
       "1                0              1           0            0\n",
       "3                1              0           0            0\n",
       "4                0              1           0            0\n",
       "5                0              0           0            1"
      ]
     },
     "execution_count": 60,
     "metadata": {},
     "output_type": "execute_result"
    }
   ],
   "source": [
    "# Generate dummy variables for Shape\n",
    "shapeTest = pd.get_dummies(Xtest[\"Shape\"],prefix=\"shape\")\n",
    "shapeTest.head()"
   ]
  },
  {
   "cell_type": "code",
   "execution_count": 61,
   "id": "7f376426",
   "metadata": {},
   "outputs": [
    {
     "data": {
      "text/html": [
       "<div>\n",
       "<style scoped>\n",
       "    .dataframe tbody tr th:only-of-type {\n",
       "        vertical-align: middle;\n",
       "    }\n",
       "\n",
       "    .dataframe tbody tr th {\n",
       "        vertical-align: top;\n",
       "    }\n",
       "\n",
       "    .dataframe thead th {\n",
       "        text-align: right;\n",
       "    }\n",
       "</style>\n",
       "<table border=\"1\" class=\"dataframe\">\n",
       "  <thead>\n",
       "    <tr style=\"text-align: right;\">\n",
       "      <th></th>\n",
       "      <th>margin_circumscribed</th>\n",
       "      <th>margin_ill-defined</th>\n",
       "      <th>margin_microlobulated</th>\n",
       "      <th>margin_obscured</th>\n",
       "      <th>margin_spiculated</th>\n",
       "    </tr>\n",
       "  </thead>\n",
       "  <tbody>\n",
       "    <tr>\n",
       "      <th>0</th>\n",
       "      <td>0</td>\n",
       "      <td>1</td>\n",
       "      <td>0</td>\n",
       "      <td>0</td>\n",
       "      <td>0</td>\n",
       "    </tr>\n",
       "    <tr>\n",
       "      <th>1</th>\n",
       "      <td>0</td>\n",
       "      <td>0</td>\n",
       "      <td>1</td>\n",
       "      <td>0</td>\n",
       "      <td>0</td>\n",
       "    </tr>\n",
       "    <tr>\n",
       "      <th>3</th>\n",
       "      <td>0</td>\n",
       "      <td>1</td>\n",
       "      <td>0</td>\n",
       "      <td>0</td>\n",
       "      <td>0</td>\n",
       "    </tr>\n",
       "    <tr>\n",
       "      <th>4</th>\n",
       "      <td>0</td>\n",
       "      <td>0</td>\n",
       "      <td>1</td>\n",
       "      <td>0</td>\n",
       "      <td>0</td>\n",
       "    </tr>\n",
       "    <tr>\n",
       "      <th>5</th>\n",
       "      <td>0</td>\n",
       "      <td>1</td>\n",
       "      <td>0</td>\n",
       "      <td>0</td>\n",
       "      <td>0</td>\n",
       "    </tr>\n",
       "  </tbody>\n",
       "</table>\n",
       "</div>"
      ],
      "text/plain": [
       "   margin_circumscribed  margin_ill-defined  margin_microlobulated  \\\n",
       "0                     0                   1                      0   \n",
       "1                     0                   0                      1   \n",
       "3                     0                   1                      0   \n",
       "4                     0                   0                      1   \n",
       "5                     0                   1                      0   \n",
       "\n",
       "   margin_obscured  margin_spiculated  \n",
       "0                0                  0  \n",
       "1                0                  0  \n",
       "3                0                  0  \n",
       "4                0                  0  \n",
       "5                0                  0  "
      ]
     },
     "execution_count": 61,
     "metadata": {},
     "output_type": "execute_result"
    }
   ],
   "source": [
    "# Generate dummy variables for Margin\n",
    "marginTest = pd.get_dummies(Xtest[\"Margin\"],prefix=\"margin\")\n",
    "marginTest.head()"
   ]
  },
  {
   "cell_type": "code",
   "execution_count": 62,
   "id": "deef0a36",
   "metadata": {},
   "outputs": [
    {
     "data": {
      "text/html": [
       "<div>\n",
       "<style scoped>\n",
       "    .dataframe tbody tr th:only-of-type {\n",
       "        vertical-align: middle;\n",
       "    }\n",
       "\n",
       "    .dataframe tbody tr th {\n",
       "        vertical-align: top;\n",
       "    }\n",
       "\n",
       "    .dataframe thead th {\n",
       "        text-align: right;\n",
       "    }\n",
       "</style>\n",
       "<table border=\"1\" class=\"dataframe\">\n",
       "  <thead>\n",
       "    <tr style=\"text-align: right;\">\n",
       "      <th></th>\n",
       "      <th>mass_density_fat-containing</th>\n",
       "      <th>mass_density_high</th>\n",
       "      <th>mass_density_iso</th>\n",
       "      <th>mass_density_low</th>\n",
       "    </tr>\n",
       "  </thead>\n",
       "  <tbody>\n",
       "    <tr>\n",
       "      <th>0</th>\n",
       "      <td>0</td>\n",
       "      <td>0</td>\n",
       "      <td>0</td>\n",
       "      <td>1</td>\n",
       "    </tr>\n",
       "    <tr>\n",
       "      <th>1</th>\n",
       "      <td>0</td>\n",
       "      <td>0</td>\n",
       "      <td>0</td>\n",
       "      <td>1</td>\n",
       "    </tr>\n",
       "    <tr>\n",
       "      <th>3</th>\n",
       "      <td>1</td>\n",
       "      <td>0</td>\n",
       "      <td>0</td>\n",
       "      <td>0</td>\n",
       "    </tr>\n",
       "    <tr>\n",
       "      <th>4</th>\n",
       "      <td>0</td>\n",
       "      <td>0</td>\n",
       "      <td>0</td>\n",
       "      <td>1</td>\n",
       "    </tr>\n",
       "    <tr>\n",
       "      <th>5</th>\n",
       "      <td>0</td>\n",
       "      <td>0</td>\n",
       "      <td>0</td>\n",
       "      <td>1</td>\n",
       "    </tr>\n",
       "  </tbody>\n",
       "</table>\n",
       "</div>"
      ],
      "text/plain": [
       "   mass_density_fat-containing  mass_density_high  mass_density_iso  \\\n",
       "0                            0                  0                 0   \n",
       "1                            0                  0                 0   \n",
       "3                            1                  0                 0   \n",
       "4                            0                  0                 0   \n",
       "5                            0                  0                 0   \n",
       "\n",
       "   mass_density_low  \n",
       "0                 1  \n",
       "1                 1  \n",
       "3                 0  \n",
       "4                 1  \n",
       "5                 1  "
      ]
     },
     "execution_count": 62,
     "metadata": {},
     "output_type": "execute_result"
    }
   ],
   "source": [
    "# Generate dummy variables for Mass_density\n",
    "massDensityTest = pd.get_dummies(Xtest[\"Mass_Density\"],prefix=\"mass_density\")\n",
    "massDensityTest.head()"
   ]
  },
  {
   "cell_type": "code",
   "execution_count": 63,
   "id": "eac7cda1",
   "metadata": {},
   "outputs": [
    {
     "data": {
      "text/html": [
       "<div>\n",
       "<style scoped>\n",
       "    .dataframe tbody tr th:only-of-type {\n",
       "        vertical-align: middle;\n",
       "    }\n",
       "\n",
       "    .dataframe tbody tr th {\n",
       "        vertical-align: top;\n",
       "    }\n",
       "\n",
       "    .dataframe thead th {\n",
       "        text-align: right;\n",
       "    }\n",
       "</style>\n",
       "<table border=\"1\" class=\"dataframe\">\n",
       "  <thead>\n",
       "    <tr style=\"text-align: right;\">\n",
       "      <th></th>\n",
       "      <th>BI_RADS_0.0</th>\n",
       "      <th>BI_RADS_2.0</th>\n",
       "      <th>BI_RADS_3.0</th>\n",
       "      <th>BI_RADS_4.0</th>\n",
       "      <th>BI_RADS_5.0</th>\n",
       "      <th>BI_RADS_6.0</th>\n",
       "      <th>Age</th>\n",
       "      <th>shape_irregular</th>\n",
       "      <th>shape_lobular</th>\n",
       "      <th>shape_oval</th>\n",
       "      <th>shape_round</th>\n",
       "      <th>margin_circumscribed</th>\n",
       "      <th>margin_ill-defined</th>\n",
       "      <th>margin_microlobulated</th>\n",
       "      <th>margin_obscured</th>\n",
       "      <th>margin_spiculated</th>\n",
       "      <th>mass_density_fat-containing</th>\n",
       "      <th>mass_density_high</th>\n",
       "      <th>mass_density_iso</th>\n",
       "      <th>mass_density_low</th>\n",
       "    </tr>\n",
       "  </thead>\n",
       "  <tbody>\n",
       "    <tr>\n",
       "      <th>0</th>\n",
       "      <td>0</td>\n",
       "      <td>0</td>\n",
       "      <td>0</td>\n",
       "      <td>0</td>\n",
       "      <td>1</td>\n",
       "      <td>0</td>\n",
       "      <td>65.0</td>\n",
       "      <td>0</td>\n",
       "      <td>1</td>\n",
       "      <td>0</td>\n",
       "      <td>0</td>\n",
       "      <td>0</td>\n",
       "      <td>1</td>\n",
       "      <td>0</td>\n",
       "      <td>0</td>\n",
       "      <td>0</td>\n",
       "      <td>0</td>\n",
       "      <td>0</td>\n",
       "      <td>0</td>\n",
       "      <td>1</td>\n",
       "    </tr>\n",
       "    <tr>\n",
       "      <th>1</th>\n",
       "      <td>0</td>\n",
       "      <td>0</td>\n",
       "      <td>0</td>\n",
       "      <td>0</td>\n",
       "      <td>1</td>\n",
       "      <td>0</td>\n",
       "      <td>74.0</td>\n",
       "      <td>0</td>\n",
       "      <td>1</td>\n",
       "      <td>0</td>\n",
       "      <td>0</td>\n",
       "      <td>0</td>\n",
       "      <td>0</td>\n",
       "      <td>1</td>\n",
       "      <td>0</td>\n",
       "      <td>0</td>\n",
       "      <td>0</td>\n",
       "      <td>0</td>\n",
       "      <td>0</td>\n",
       "      <td>1</td>\n",
       "    </tr>\n",
       "    <tr>\n",
       "      <th>3</th>\n",
       "      <td>0</td>\n",
       "      <td>0</td>\n",
       "      <td>0</td>\n",
       "      <td>1</td>\n",
       "      <td>0</td>\n",
       "      <td>0</td>\n",
       "      <td>57.0</td>\n",
       "      <td>1</td>\n",
       "      <td>0</td>\n",
       "      <td>0</td>\n",
       "      <td>0</td>\n",
       "      <td>0</td>\n",
       "      <td>1</td>\n",
       "      <td>0</td>\n",
       "      <td>0</td>\n",
       "      <td>0</td>\n",
       "      <td>1</td>\n",
       "      <td>0</td>\n",
       "      <td>0</td>\n",
       "      <td>0</td>\n",
       "    </tr>\n",
       "    <tr>\n",
       "      <th>4</th>\n",
       "      <td>0</td>\n",
       "      <td>0</td>\n",
       "      <td>0</td>\n",
       "      <td>1</td>\n",
       "      <td>0</td>\n",
       "      <td>0</td>\n",
       "      <td>76.0</td>\n",
       "      <td>0</td>\n",
       "      <td>1</td>\n",
       "      <td>0</td>\n",
       "      <td>0</td>\n",
       "      <td>0</td>\n",
       "      <td>0</td>\n",
       "      <td>1</td>\n",
       "      <td>0</td>\n",
       "      <td>0</td>\n",
       "      <td>0</td>\n",
       "      <td>0</td>\n",
       "      <td>0</td>\n",
       "      <td>1</td>\n",
       "    </tr>\n",
       "    <tr>\n",
       "      <th>5</th>\n",
       "      <td>0</td>\n",
       "      <td>0</td>\n",
       "      <td>0</td>\n",
       "      <td>1</td>\n",
       "      <td>0</td>\n",
       "      <td>0</td>\n",
       "      <td>63.0</td>\n",
       "      <td>0</td>\n",
       "      <td>0</td>\n",
       "      <td>0</td>\n",
       "      <td>1</td>\n",
       "      <td>0</td>\n",
       "      <td>1</td>\n",
       "      <td>0</td>\n",
       "      <td>0</td>\n",
       "      <td>0</td>\n",
       "      <td>0</td>\n",
       "      <td>0</td>\n",
       "      <td>0</td>\n",
       "      <td>1</td>\n",
       "    </tr>\n",
       "  </tbody>\n",
       "</table>\n",
       "</div>"
      ],
      "text/plain": [
       "   BI_RADS_0.0  BI_RADS_2.0  BI_RADS_3.0  BI_RADS_4.0  BI_RADS_5.0  \\\n",
       "0            0            0            0            0            1   \n",
       "1            0            0            0            0            1   \n",
       "3            0            0            0            1            0   \n",
       "4            0            0            0            1            0   \n",
       "5            0            0            0            1            0   \n",
       "\n",
       "   BI_RADS_6.0   Age  shape_irregular  shape_lobular  shape_oval  shape_round  \\\n",
       "0            0  65.0                0              1           0            0   \n",
       "1            0  74.0                0              1           0            0   \n",
       "3            0  57.0                1              0           0            0   \n",
       "4            0  76.0                0              1           0            0   \n",
       "5            0  63.0                0              0           0            1   \n",
       "\n",
       "   margin_circumscribed  margin_ill-defined  margin_microlobulated  \\\n",
       "0                     0                   1                      0   \n",
       "1                     0                   0                      1   \n",
       "3                     0                   1                      0   \n",
       "4                     0                   0                      1   \n",
       "5                     0                   1                      0   \n",
       "\n",
       "   margin_obscured  margin_spiculated  mass_density_fat-containing  \\\n",
       "0                0                  0                            0   \n",
       "1                0                  0                            0   \n",
       "3                0                  0                            1   \n",
       "4                0                  0                            0   \n",
       "5                0                  0                            0   \n",
       "\n",
       "   mass_density_high  mass_density_iso  mass_density_low  \n",
       "0                  0                 0                 1  \n",
       "1                  0                 0                 1  \n",
       "3                  0                 0                 0  \n",
       "4                  0                 0                 1  \n",
       "5                  0                 0                 1  "
      ]
     },
     "execution_count": 63,
     "metadata": {},
     "output_type": "execute_result"
    }
   ],
   "source": [
    "#Combining all the columns\n",
    "XtestCombine = pd.concat([biradsTest,Xtest[\"Age\"],shapeTest,marginTest,massDensityTest],axis=1)\n",
    "XtestCombine.head()"
   ]
  },
  {
   "cell_type": "code",
   "execution_count": 64,
   "id": "72bd43f9",
   "metadata": {},
   "outputs": [
    {
     "data": {
      "text/html": [
       "<div>\n",
       "<style scoped>\n",
       "    .dataframe tbody tr th:only-of-type {\n",
       "        vertical-align: middle;\n",
       "    }\n",
       "\n",
       "    .dataframe tbody tr th {\n",
       "        vertical-align: top;\n",
       "    }\n",
       "\n",
       "    .dataframe thead th {\n",
       "        text-align: right;\n",
       "    }\n",
       "</style>\n",
       "<table border=\"1\" class=\"dataframe\">\n",
       "  <thead>\n",
       "    <tr style=\"text-align: right;\">\n",
       "      <th></th>\n",
       "      <th>BI_RADS_2.0</th>\n",
       "      <th>BI_RADS_3.0</th>\n",
       "      <th>BI_RADS_4.0</th>\n",
       "      <th>BI_RADS_5.0</th>\n",
       "      <th>Age</th>\n",
       "      <th>shape_irregular</th>\n",
       "      <th>shape_oval</th>\n",
       "      <th>shape_round</th>\n",
       "      <th>margin_circumscribed</th>\n",
       "      <th>margin_ill-defined</th>\n",
       "      <th>margin_obscured</th>\n",
       "      <th>margin_spiculated</th>\n",
       "      <th>mass_density_iso</th>\n",
       "    </tr>\n",
       "  </thead>\n",
       "  <tbody>\n",
       "    <tr>\n",
       "      <th>0</th>\n",
       "      <td>0</td>\n",
       "      <td>0</td>\n",
       "      <td>0</td>\n",
       "      <td>1</td>\n",
       "      <td>65.0</td>\n",
       "      <td>0</td>\n",
       "      <td>0</td>\n",
       "      <td>0</td>\n",
       "      <td>0</td>\n",
       "      <td>1</td>\n",
       "      <td>0</td>\n",
       "      <td>0</td>\n",
       "      <td>0</td>\n",
       "    </tr>\n",
       "    <tr>\n",
       "      <th>1</th>\n",
       "      <td>0</td>\n",
       "      <td>0</td>\n",
       "      <td>0</td>\n",
       "      <td>1</td>\n",
       "      <td>74.0</td>\n",
       "      <td>0</td>\n",
       "      <td>0</td>\n",
       "      <td>0</td>\n",
       "      <td>0</td>\n",
       "      <td>0</td>\n",
       "      <td>0</td>\n",
       "      <td>0</td>\n",
       "      <td>0</td>\n",
       "    </tr>\n",
       "    <tr>\n",
       "      <th>3</th>\n",
       "      <td>0</td>\n",
       "      <td>0</td>\n",
       "      <td>1</td>\n",
       "      <td>0</td>\n",
       "      <td>57.0</td>\n",
       "      <td>1</td>\n",
       "      <td>0</td>\n",
       "      <td>0</td>\n",
       "      <td>0</td>\n",
       "      <td>1</td>\n",
       "      <td>0</td>\n",
       "      <td>0</td>\n",
       "      <td>0</td>\n",
       "    </tr>\n",
       "    <tr>\n",
       "      <th>4</th>\n",
       "      <td>0</td>\n",
       "      <td>0</td>\n",
       "      <td>1</td>\n",
       "      <td>0</td>\n",
       "      <td>76.0</td>\n",
       "      <td>0</td>\n",
       "      <td>0</td>\n",
       "      <td>0</td>\n",
       "      <td>0</td>\n",
       "      <td>0</td>\n",
       "      <td>0</td>\n",
       "      <td>0</td>\n",
       "      <td>0</td>\n",
       "    </tr>\n",
       "    <tr>\n",
       "      <th>5</th>\n",
       "      <td>0</td>\n",
       "      <td>0</td>\n",
       "      <td>1</td>\n",
       "      <td>0</td>\n",
       "      <td>63.0</td>\n",
       "      <td>0</td>\n",
       "      <td>0</td>\n",
       "      <td>1</td>\n",
       "      <td>0</td>\n",
       "      <td>1</td>\n",
       "      <td>0</td>\n",
       "      <td>0</td>\n",
       "      <td>0</td>\n",
       "    </tr>\n",
       "  </tbody>\n",
       "</table>\n",
       "</div>"
      ],
      "text/plain": [
       "   BI_RADS_2.0  BI_RADS_3.0  BI_RADS_4.0  BI_RADS_5.0   Age  shape_irregular  \\\n",
       "0            0            0            0            1  65.0                0   \n",
       "1            0            0            0            1  74.0                0   \n",
       "3            0            0            1            0  57.0                1   \n",
       "4            0            0            1            0  76.0                0   \n",
       "5            0            0            1            0  63.0                0   \n",
       "\n",
       "   shape_oval  shape_round  margin_circumscribed  margin_ill-defined  \\\n",
       "0           0            0                     0                   1   \n",
       "1           0            0                     0                   0   \n",
       "3           0            0                     0                   1   \n",
       "4           0            0                     0                   0   \n",
       "5           0            1                     0                   1   \n",
       "\n",
       "   margin_obscured  margin_spiculated  mass_density_iso  \n",
       "0                0                  0                 0  \n",
       "1                0                  0                 0  \n",
       "3                0                  0                 0  \n",
       "4                0                  0                 0  \n",
       "5                0                  0                 0  "
      ]
     },
     "execution_count": 64,
     "metadata": {},
     "output_type": "execute_result"
    }
   ],
   "source": [
    "#Based on Feature Selection, picking the BestFeatures for test Data\n",
    "XtestBest = XtestCombine[BestFeatures]\n",
    "XtestBest.head()"
   ]
  },
  {
   "cell_type": "code",
   "execution_count": 65,
   "id": "a1a3b6b3",
   "metadata": {},
   "outputs": [
    {
     "data": {
      "text/html": [
       "<div>\n",
       "<style scoped>\n",
       "    .dataframe tbody tr th:only-of-type {\n",
       "        vertical-align: middle;\n",
       "    }\n",
       "\n",
       "    .dataframe tbody tr th {\n",
       "        vertical-align: top;\n",
       "    }\n",
       "\n",
       "    .dataframe thead th {\n",
       "        text-align: right;\n",
       "    }\n",
       "</style>\n",
       "<table border=\"1\" class=\"dataframe\">\n",
       "  <thead>\n",
       "    <tr style=\"text-align: right;\">\n",
       "      <th></th>\n",
       "      <th>0</th>\n",
       "      <th>1</th>\n",
       "      <th>2</th>\n",
       "      <th>3</th>\n",
       "      <th>4</th>\n",
       "      <th>5</th>\n",
       "      <th>6</th>\n",
       "      <th>7</th>\n",
       "      <th>8</th>\n",
       "      <th>9</th>\n",
       "      <th>10</th>\n",
       "      <th>11</th>\n",
       "      <th>12</th>\n",
       "    </tr>\n",
       "  </thead>\n",
       "  <tbody>\n",
       "    <tr>\n",
       "      <th>0</th>\n",
       "      <td>0.0</td>\n",
       "      <td>0.0</td>\n",
       "      <td>0.0</td>\n",
       "      <td>1.0</td>\n",
       "      <td>0.754098</td>\n",
       "      <td>0.0</td>\n",
       "      <td>0.0</td>\n",
       "      <td>0.0</td>\n",
       "      <td>0.0</td>\n",
       "      <td>1.0</td>\n",
       "      <td>0.0</td>\n",
       "      <td>0.0</td>\n",
       "      <td>0.0</td>\n",
       "    </tr>\n",
       "    <tr>\n",
       "      <th>1</th>\n",
       "      <td>0.0</td>\n",
       "      <td>0.0</td>\n",
       "      <td>0.0</td>\n",
       "      <td>1.0</td>\n",
       "      <td>0.901639</td>\n",
       "      <td>0.0</td>\n",
       "      <td>0.0</td>\n",
       "      <td>0.0</td>\n",
       "      <td>0.0</td>\n",
       "      <td>0.0</td>\n",
       "      <td>0.0</td>\n",
       "      <td>0.0</td>\n",
       "      <td>0.0</td>\n",
       "    </tr>\n",
       "    <tr>\n",
       "      <th>2</th>\n",
       "      <td>0.0</td>\n",
       "      <td>0.0</td>\n",
       "      <td>1.0</td>\n",
       "      <td>0.0</td>\n",
       "      <td>0.622951</td>\n",
       "      <td>1.0</td>\n",
       "      <td>0.0</td>\n",
       "      <td>0.0</td>\n",
       "      <td>0.0</td>\n",
       "      <td>1.0</td>\n",
       "      <td>0.0</td>\n",
       "      <td>0.0</td>\n",
       "      <td>0.0</td>\n",
       "    </tr>\n",
       "    <tr>\n",
       "      <th>3</th>\n",
       "      <td>0.0</td>\n",
       "      <td>0.0</td>\n",
       "      <td>1.0</td>\n",
       "      <td>0.0</td>\n",
       "      <td>0.934426</td>\n",
       "      <td>0.0</td>\n",
       "      <td>0.0</td>\n",
       "      <td>0.0</td>\n",
       "      <td>0.0</td>\n",
       "      <td>0.0</td>\n",
       "      <td>0.0</td>\n",
       "      <td>0.0</td>\n",
       "      <td>0.0</td>\n",
       "    </tr>\n",
       "    <tr>\n",
       "      <th>4</th>\n",
       "      <td>0.0</td>\n",
       "      <td>0.0</td>\n",
       "      <td>1.0</td>\n",
       "      <td>0.0</td>\n",
       "      <td>0.721311</td>\n",
       "      <td>0.0</td>\n",
       "      <td>0.0</td>\n",
       "      <td>1.0</td>\n",
       "      <td>0.0</td>\n",
       "      <td>1.0</td>\n",
       "      <td>0.0</td>\n",
       "      <td>0.0</td>\n",
       "      <td>0.0</td>\n",
       "    </tr>\n",
       "  </tbody>\n",
       "</table>\n",
       "</div>"
      ],
      "text/plain": [
       "    0    1    2    3         4    5    6    7    8    9    10   11   12\n",
       "0  0.0  0.0  0.0  1.0  0.754098  0.0  0.0  0.0  0.0  1.0  0.0  0.0  0.0\n",
       "1  0.0  0.0  0.0  1.0  0.901639  0.0  0.0  0.0  0.0  0.0  0.0  0.0  0.0\n",
       "2  0.0  0.0  1.0  0.0  0.622951  1.0  0.0  0.0  0.0  1.0  0.0  0.0  0.0\n",
       "3  0.0  0.0  1.0  0.0  0.934426  0.0  0.0  0.0  0.0  0.0  0.0  0.0  0.0\n",
       "4  0.0  0.0  1.0  0.0  0.721311  0.0  0.0  1.0  0.0  1.0  0.0  0.0  0.0"
      ]
     },
     "execution_count": 65,
     "metadata": {},
     "output_type": "execute_result"
    }
   ],
   "source": [
    "#Scale the Age features between 0 and 1\n",
    "#Normalizing the age values between 0 and 1, since the values of all other columns is in between 0 and 1\n",
    "scaler = MinMaxScaler()\n",
    "XtestBestFit=scaler.fit(XtestBest)\n",
    "XtestBestScaled = scaler.transform(XtestBest)\n",
    "pd.DataFrame(XtestBestScaled).head()"
   ]
  },
  {
   "cell_type": "code",
   "execution_count": 66,
   "id": "4958aced",
   "metadata": {},
   "outputs": [
    {
     "name": "stdout",
     "output_type": "stream",
     "text": [
      "Test Accuracy:  80.12820512820514 %\n"
     ]
    }
   ],
   "source": [
    "#Predictions using the model\n",
    "Y_test_predictGBFinal = modelGBFinal.predict(XtestBestScaled)\n",
    "testAccuracyScoreGBFinal = balanced_accuracy_score(Ytest, Y_test_predictGBFinal)\n",
    "print(\"Test Accuracy: \", testAccuracyScoreGBFinal*100,\"%\")"
   ]
  },
  {
   "cell_type": "markdown",
   "id": "1ab64436",
   "metadata": {},
   "source": [
    "# Model Evaluation"
   ]
  },
  {
   "cell_type": "code",
   "execution_count": 67,
   "id": "ed97c083",
   "metadata": {},
   "outputs": [
    {
     "name": "stderr",
     "output_type": "stream",
     "text": [
      "C:\\Users\\3501\\anaconda3\\lib\\site-packages\\sklearn\\utils\\deprecation.py:87: FutureWarning: Function plot_confusion_matrix is deprecated; Function `plot_confusion_matrix` is deprecated in 1.0 and will be removed in 1.2. Use one of the class methods: ConfusionMatrixDisplay.from_predictions or ConfusionMatrixDisplay.from_estimator.\n",
      "  warnings.warn(msg, category=FutureWarning)\n"
     ]
    },
    {
     "data": {
      "text/plain": [
       "<sklearn.metrics._plot.confusion_matrix.ConfusionMatrixDisplay at 0x1b05478f9d0>"
      ]
     },
     "execution_count": 67,
     "metadata": {},
     "output_type": "execute_result"
    },
    {
     "data": {
      "image/png": "[encoded data removed]",
      "text/plain": [
       "<Figure size 432x288 with 2 Axes>"
      ]
     },
     "metadata": {
      "needs_background": "light"
     },
     "output_type": "display_data"
    }
   ],
   "source": [
    "#Print Confusion Matrix\n",
    "plot_confusion_matrix(modelGBFinal, XtestBestScaled, Ytest)\n",
    "#plt.savefig(\"D:/FedEx Problem Statement/Images/confusion_matrix.jpg\")"
   ]
  },
  {
   "cell_type": "code",
   "execution_count": 68,
   "id": "5add506f",
   "metadata": {},
   "outputs": [
    {
     "name": "stdout",
     "output_type": "stream",
     "text": [
      "              precision    recall  f1-score   support\n",
      "\n",
      "           0       0.80      0.83      0.82        72\n",
      "           1       0.81      0.77      0.79        65\n",
      "\n",
      "    accuracy                           0.80       137\n",
      "   macro avg       0.80      0.80      0.80       137\n",
      "weighted avg       0.80      0.80      0.80       137\n",
      "\n"
     ]
    }
   ],
   "source": [
    "#Print Classification Report\n",
    "print(classification_report(Ytest, Y_test_predictGBFinal))"
   ]
  },
  {
   "cell_type": "code",
   "execution_count": 69,
   "id": "c7264cbf",
   "metadata": {},
   "outputs": [
    {
     "data": {
      "image/png": "[encoded data removed]",
      "text/plain": [
       "<Figure size 432x288 with 1 Axes>"
      ]
     },
     "metadata": {
      "needs_background": "light"
     },
     "output_type": "display_data"
    }
   ],
   "source": [
    "#ROC Curve\n",
    "fpr, tpr,_= roc_curve(Ytest, Y_test_predictGBFinal)\n",
    "roc_display = RocCurveDisplay(fpr=fpr, tpr=tpr).plot()\n",
    "#plt.savefig(\"D:/FedEx Problem Statement/Images/roc_curve.jpg\")"
   ]
  },
  {
   "cell_type": "code",
   "execution_count": 70,
   "id": "91f765d5",
   "metadata": {},
   "outputs": [
    {
     "name": "stdout",
     "output_type": "stream",
     "text": [
      "AUC: 80.12820512820514\n"
     ]
    }
   ],
   "source": [
    "#Area under curve\n",
    "print(\"AUC:\",roc_auc_score(Ytest, Y_test_predictGBFinal)*100)"
   ]
  }
 ],
 "metadata": {
  "kernelspec": {
   "display_name": "Python 3",
   "language": "python",
   "name": "python3"
  },
  "language_info": {
   "codemirror_mode": {
    "name": "ipython",
    "version": 3
   },
   "file_extension": ".py",
   "mimetype": "text/x-python",
   "name": "python",
   "nbconvert_exporter": "python",
   "pygments_lexer": "ipython3",
   "version": "3.8.8"
  }
 },
 "nbformat": 4,
 "nbformat_minor": 5
}
